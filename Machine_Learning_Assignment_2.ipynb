{
  "nbformat": 4,
  "nbformat_minor": 0,
  "metadata": {
    "colab": {
      "provenance": [],
      "collapsed_sections": [
        "7K0xQLgWeVPr",
        "tUph4kHB2mON",
        "MKhgAVgw5dHP",
        "nYa742if6VVt",
        "80GbetuY6YyA",
        "RVVDoagQ6zYU",
        "wegIZt3KfiHg",
        "KS297rWnfiHh",
        "xyyH3ZtrfiHl",
        "qehdCIOcfiHn",
        "njhLPulySSH-",
        "8tvfHvsRYqm7",
        "9uhjpD7RYqm-",
        "p5I94CljYqm_"
      ]
    },
    "kernelspec": {
      "name": "python3",
      "display_name": "Python 3"
    },
    "language_info": {
      "name": "python"
    }
  },
  "cells": [
    {
      "cell_type": "markdown",
      "source": [
        "You are provided 3 datasets below:\n",
        "\n",
        "- https://www.kaggle.com/datasets/alexteboul/heart-disease-health-indicators-dataset\n",
        "\n",
        "- https://www.kaggle.com/datasets/mastmustu/income (Note: you need to convert the \n",
        "problem into a binary classification to find whether the income is above 45K or not.)\n",
        "\n",
        "- Gene expression csv in the zipped file.\n",
        "\n",
        "For each of the datasets provided apply proper scaling and \n",
        "feature engineering.\n",
        "\n",
        "- You need to train and test 3 different classification models \n",
        "(logistic regression, KNN, SVM) on each dataset separately so in \n",
        "total you will train and test 9 different models.\n",
        "\n",
        "- For the KNN, try 20 different K values, select the best k using the \n",
        "elbow method with plotting.\n",
        "\n",
        "\n",
        "- For the SVM:\n",
        "\n",
        "- Compare linear kernel versus 2 non-linear kernels. Select the \n",
        "best.\n",
        "\n",
        "- Compute accuracy, precision, recall and F1-score for each of the 9 \n",
        "models."
      ],
      "metadata": {
        "id": "Polr7hTCxaKm"
      }
    },
    {
      "cell_type": "markdown",
      "source": [
        "# Imports"
      ],
      "metadata": {
        "id": "mSJ-M0ojPVqy"
      }
    },
    {
      "cell_type": "code",
      "source": [
        "from google.colab import drive\n",
        "drive.mount('/content/drive')"
      ],
      "metadata": {
        "colab": {
          "base_uri": "https://localhost:8080/"
        },
        "id": "lVKVqSMwKNqD",
        "outputId": "e44c4fc5-7d7a-4488-bc32-15b8f9c25c4d"
      },
      "execution_count": null,
      "outputs": [
        {
          "output_type": "stream",
          "name": "stdout",
          "text": [
            "Mounted at /content/drive\n"
          ]
        }
      ]
    },
    {
      "cell_type": "code",
      "source": [
        "import numpy as np"
      ],
      "metadata": {
        "id": "bdp8Hx0XmTzQ"
      },
      "execution_count": null,
      "outputs": []
    },
    {
      "cell_type": "code",
      "execution_count": null,
      "metadata": {
        "id": "HUIMNhZHxHYX"
      },
      "outputs": [],
      "source": [
        "import pandas as pd"
      ]
    },
    {
      "cell_type": "code",
      "source": [
        "from sklearn.preprocessing import MinMaxScaler, StandardScaler"
      ],
      "metadata": {
        "id": "0aVGPsYogEbZ"
      },
      "execution_count": null,
      "outputs": []
    },
    {
      "cell_type": "code",
      "source": [
        "from sklearn.model_selection import train_test_split"
      ],
      "metadata": {
        "id": "-ga6AxehHyLB"
      },
      "execution_count": null,
      "outputs": []
    },
    {
      "cell_type": "code",
      "source": [
        "import matplotlib.pyplot as plt"
      ],
      "metadata": {
        "id": "mwO5QrrOhDg7"
      },
      "execution_count": null,
      "outputs": []
    },
    {
      "cell_type": "markdown",
      "source": [
        "# Dataset Transformation"
      ],
      "metadata": {
        "id": "699Te68XeB6S"
      }
    },
    {
      "cell_type": "markdown",
      "source": [
        "## Heart Disease Dataset Transformation"
      ],
      "metadata": {
        "id": "7nkQnLEyd5bR"
      }
    },
    {
      "cell_type": "code",
      "source": [
        "heart_disease = pd.read_csv('/content/drive/MyDrive/heart_disease_health_indicators_BRFSS2015.csv')"
      ],
      "metadata": {
        "id": "agJal-O3z0Y-"
      },
      "execution_count": null,
      "outputs": []
    },
    {
      "cell_type": "code",
      "source": [
        "heart_disease.head()"
      ],
      "metadata": {
        "id": "MC1v7QNNdb36",
        "colab": {
          "base_uri": "https://localhost:8080/",
          "height": 299
        },
        "outputId": "ed2e7b90-a01e-44ff-a1e8-4550c06b26b6"
      },
      "execution_count": null,
      "outputs": [
        {
          "output_type": "execute_result",
          "data": {
            "text/plain": [
              "   HeartDiseaseorAttack  HighBP  HighChol  CholCheck   BMI  Smoker  Stroke  \\\n",
              "0                   0.0     1.0       1.0        1.0  40.0     1.0     0.0   \n",
              "1                   0.0     0.0       0.0        0.0  25.0     1.0     0.0   \n",
              "2                   0.0     1.0       1.0        1.0  28.0     0.0     0.0   \n",
              "3                   0.0     1.0       0.0        1.0  27.0     0.0     0.0   \n",
              "4                   0.0     1.0       1.0        1.0  24.0     0.0     0.0   \n",
              "\n",
              "   Diabetes  PhysActivity  Fruits  ...  AnyHealthcare  NoDocbcCost  GenHlth  \\\n",
              "0       0.0           0.0     0.0  ...            1.0          0.0      5.0   \n",
              "1       0.0           1.0     0.0  ...            0.0          1.0      3.0   \n",
              "2       0.0           0.0     1.0  ...            1.0          1.0      5.0   \n",
              "3       0.0           1.0     1.0  ...            1.0          0.0      2.0   \n",
              "4       0.0           1.0     1.0  ...            1.0          0.0      2.0   \n",
              "\n",
              "   MentHlth  PhysHlth  DiffWalk  Sex   Age  Education  Income  \n",
              "0      18.0      15.0       1.0  0.0   9.0        4.0     3.0  \n",
              "1       0.0       0.0       0.0  0.0   7.0        6.0     1.0  \n",
              "2      30.0      30.0       1.0  0.0   9.0        4.0     8.0  \n",
              "3       0.0       0.0       0.0  0.0  11.0        3.0     6.0  \n",
              "4       3.0       0.0       0.0  0.0  11.0        5.0     4.0  \n",
              "\n",
              "[5 rows x 22 columns]"
            ],
            "text/html": [
              "\n",
              "  <div id=\"df-db2e6689-0cdd-429c-a1c9-d3be821deb62\">\n",
              "    <div class=\"colab-df-container\">\n",
              "      <div>\n",
              "<style scoped>\n",
              "    .dataframe tbody tr th:only-of-type {\n",
              "        vertical-align: middle;\n",
              "    }\n",
              "\n",
              "    .dataframe tbody tr th {\n",
              "        vertical-align: top;\n",
              "    }\n",
              "\n",
              "    .dataframe thead th {\n",
              "        text-align: right;\n",
              "    }\n",
              "</style>\n",
              "<table border=\"1\" class=\"dataframe\">\n",
              "  <thead>\n",
              "    <tr style=\"text-align: right;\">\n",
              "      <th></th>\n",
              "      <th>HeartDiseaseorAttack</th>\n",
              "      <th>HighBP</th>\n",
              "      <th>HighChol</th>\n",
              "      <th>CholCheck</th>\n",
              "      <th>BMI</th>\n",
              "      <th>Smoker</th>\n",
              "      <th>Stroke</th>\n",
              "      <th>Diabetes</th>\n",
              "      <th>PhysActivity</th>\n",
              "      <th>Fruits</th>\n",
              "      <th>...</th>\n",
              "      <th>AnyHealthcare</th>\n",
              "      <th>NoDocbcCost</th>\n",
              "      <th>GenHlth</th>\n",
              "      <th>MentHlth</th>\n",
              "      <th>PhysHlth</th>\n",
              "      <th>DiffWalk</th>\n",
              "      <th>Sex</th>\n",
              "      <th>Age</th>\n",
              "      <th>Education</th>\n",
              "      <th>Income</th>\n",
              "    </tr>\n",
              "  </thead>\n",
              "  <tbody>\n",
              "    <tr>\n",
              "      <th>0</th>\n",
              "      <td>0.0</td>\n",
              "      <td>1.0</td>\n",
              "      <td>1.0</td>\n",
              "      <td>1.0</td>\n",
              "      <td>40.0</td>\n",
              "      <td>1.0</td>\n",
              "      <td>0.0</td>\n",
              "      <td>0.0</td>\n",
              "      <td>0.0</td>\n",
              "      <td>0.0</td>\n",
              "      <td>...</td>\n",
              "      <td>1.0</td>\n",
              "      <td>0.0</td>\n",
              "      <td>5.0</td>\n",
              "      <td>18.0</td>\n",
              "      <td>15.0</td>\n",
              "      <td>1.0</td>\n",
              "      <td>0.0</td>\n",
              "      <td>9.0</td>\n",
              "      <td>4.0</td>\n",
              "      <td>3.0</td>\n",
              "    </tr>\n",
              "    <tr>\n",
              "      <th>1</th>\n",
              "      <td>0.0</td>\n",
              "      <td>0.0</td>\n",
              "      <td>0.0</td>\n",
              "      <td>0.0</td>\n",
              "      <td>25.0</td>\n",
              "      <td>1.0</td>\n",
              "      <td>0.0</td>\n",
              "      <td>0.0</td>\n",
              "      <td>1.0</td>\n",
              "      <td>0.0</td>\n",
              "      <td>...</td>\n",
              "      <td>0.0</td>\n",
              "      <td>1.0</td>\n",
              "      <td>3.0</td>\n",
              "      <td>0.0</td>\n",
              "      <td>0.0</td>\n",
              "      <td>0.0</td>\n",
              "      <td>0.0</td>\n",
              "      <td>7.0</td>\n",
              "      <td>6.0</td>\n",
              "      <td>1.0</td>\n",
              "    </tr>\n",
              "    <tr>\n",
              "      <th>2</th>\n",
              "      <td>0.0</td>\n",
              "      <td>1.0</td>\n",
              "      <td>1.0</td>\n",
              "      <td>1.0</td>\n",
              "      <td>28.0</td>\n",
              "      <td>0.0</td>\n",
              "      <td>0.0</td>\n",
              "      <td>0.0</td>\n",
              "      <td>0.0</td>\n",
              "      <td>1.0</td>\n",
              "      <td>...</td>\n",
              "      <td>1.0</td>\n",
              "      <td>1.0</td>\n",
              "      <td>5.0</td>\n",
              "      <td>30.0</td>\n",
              "      <td>30.0</td>\n",
              "      <td>1.0</td>\n",
              "      <td>0.0</td>\n",
              "      <td>9.0</td>\n",
              "      <td>4.0</td>\n",
              "      <td>8.0</td>\n",
              "    </tr>\n",
              "    <tr>\n",
              "      <th>3</th>\n",
              "      <td>0.0</td>\n",
              "      <td>1.0</td>\n",
              "      <td>0.0</td>\n",
              "      <td>1.0</td>\n",
              "      <td>27.0</td>\n",
              "      <td>0.0</td>\n",
              "      <td>0.0</td>\n",
              "      <td>0.0</td>\n",
              "      <td>1.0</td>\n",
              "      <td>1.0</td>\n",
              "      <td>...</td>\n",
              "      <td>1.0</td>\n",
              "      <td>0.0</td>\n",
              "      <td>2.0</td>\n",
              "      <td>0.0</td>\n",
              "      <td>0.0</td>\n",
              "      <td>0.0</td>\n",
              "      <td>0.0</td>\n",
              "      <td>11.0</td>\n",
              "      <td>3.0</td>\n",
              "      <td>6.0</td>\n",
              "    </tr>\n",
              "    <tr>\n",
              "      <th>4</th>\n",
              "      <td>0.0</td>\n",
              "      <td>1.0</td>\n",
              "      <td>1.0</td>\n",
              "      <td>1.0</td>\n",
              "      <td>24.0</td>\n",
              "      <td>0.0</td>\n",
              "      <td>0.0</td>\n",
              "      <td>0.0</td>\n",
              "      <td>1.0</td>\n",
              "      <td>1.0</td>\n",
              "      <td>...</td>\n",
              "      <td>1.0</td>\n",
              "      <td>0.0</td>\n",
              "      <td>2.0</td>\n",
              "      <td>3.0</td>\n",
              "      <td>0.0</td>\n",
              "      <td>0.0</td>\n",
              "      <td>0.0</td>\n",
              "      <td>11.0</td>\n",
              "      <td>5.0</td>\n",
              "      <td>4.0</td>\n",
              "    </tr>\n",
              "  </tbody>\n",
              "</table>\n",
              "<p>5 rows × 22 columns</p>\n",
              "</div>\n",
              "      <button class=\"colab-df-convert\" onclick=\"convertToInteractive('df-db2e6689-0cdd-429c-a1c9-d3be821deb62')\"\n",
              "              title=\"Convert this dataframe to an interactive table.\"\n",
              "              style=\"display:none;\">\n",
              "        \n",
              "  <svg xmlns=\"http://www.w3.org/2000/svg\" height=\"24px\"viewBox=\"0 0 24 24\"\n",
              "       width=\"24px\">\n",
              "    <path d=\"M0 0h24v24H0V0z\" fill=\"none\"/>\n",
              "    <path d=\"M18.56 5.44l.94 2.06.94-2.06 2.06-.94-2.06-.94-.94-2.06-.94 2.06-2.06.94zm-11 1L8.5 8.5l.94-2.06 2.06-.94-2.06-.94L8.5 2.5l-.94 2.06-2.06.94zm10 10l.94 2.06.94-2.06 2.06-.94-2.06-.94-.94-2.06-.94 2.06-2.06.94z\"/><path d=\"M17.41 7.96l-1.37-1.37c-.4-.4-.92-.59-1.43-.59-.52 0-1.04.2-1.43.59L10.3 9.45l-7.72 7.72c-.78.78-.78 2.05 0 2.83L4 21.41c.39.39.9.59 1.41.59.51 0 1.02-.2 1.41-.59l7.78-7.78 2.81-2.81c.8-.78.8-2.07 0-2.86zM5.41 20L4 18.59l7.72-7.72 1.47 1.35L5.41 20z\"/>\n",
              "  </svg>\n",
              "      </button>\n",
              "      \n",
              "  <style>\n",
              "    .colab-df-container {\n",
              "      display:flex;\n",
              "      flex-wrap:wrap;\n",
              "      gap: 12px;\n",
              "    }\n",
              "\n",
              "    .colab-df-convert {\n",
              "      background-color: #E8F0FE;\n",
              "      border: none;\n",
              "      border-radius: 50%;\n",
              "      cursor: pointer;\n",
              "      display: none;\n",
              "      fill: #1967D2;\n",
              "      height: 32px;\n",
              "      padding: 0 0 0 0;\n",
              "      width: 32px;\n",
              "    }\n",
              "\n",
              "    .colab-df-convert:hover {\n",
              "      background-color: #E2EBFA;\n",
              "      box-shadow: 0px 1px 2px rgba(60, 64, 67, 0.3), 0px 1px 3px 1px rgba(60, 64, 67, 0.15);\n",
              "      fill: #174EA6;\n",
              "    }\n",
              "\n",
              "    [theme=dark] .colab-df-convert {\n",
              "      background-color: #3B4455;\n",
              "      fill: #D2E3FC;\n",
              "    }\n",
              "\n",
              "    [theme=dark] .colab-df-convert:hover {\n",
              "      background-color: #434B5C;\n",
              "      box-shadow: 0px 1px 3px 1px rgba(0, 0, 0, 0.15);\n",
              "      filter: drop-shadow(0px 1px 2px rgba(0, 0, 0, 0.3));\n",
              "      fill: #FFFFFF;\n",
              "    }\n",
              "  </style>\n",
              "\n",
              "      <script>\n",
              "        const buttonEl =\n",
              "          document.querySelector('#df-db2e6689-0cdd-429c-a1c9-d3be821deb62 button.colab-df-convert');\n",
              "        buttonEl.style.display =\n",
              "          google.colab.kernel.accessAllowed ? 'block' : 'none';\n",
              "\n",
              "        async function convertToInteractive(key) {\n",
              "          const element = document.querySelector('#df-db2e6689-0cdd-429c-a1c9-d3be821deb62');\n",
              "          const dataTable =\n",
              "            await google.colab.kernel.invokeFunction('convertToInteractive',\n",
              "                                                     [key], {});\n",
              "          if (!dataTable) return;\n",
              "\n",
              "          const docLinkHtml = 'Like what you see? Visit the ' +\n",
              "            '<a target=\"_blank\" href=https://colab.research.google.com/notebooks/data_table.ipynb>data table notebook</a>'\n",
              "            + ' to learn more about interactive tables.';\n",
              "          element.innerHTML = '';\n",
              "          dataTable['output_type'] = 'display_data';\n",
              "          await google.colab.output.renderOutput(dataTable, element);\n",
              "          const docLink = document.createElement('div');\n",
              "          docLink.innerHTML = docLinkHtml;\n",
              "          element.appendChild(docLink);\n",
              "        }\n",
              "      </script>\n",
              "    </div>\n",
              "  </div>\n",
              "  "
            ]
          },
          "metadata": {},
          "execution_count": 9
        }
      ]
    },
    {
      "cell_type": "code",
      "source": [
        "heart_disease.columns"
      ],
      "metadata": {
        "id": "EGNGg-pSewiw",
        "colab": {
          "base_uri": "https://localhost:8080/"
        },
        "outputId": "511fedc8-6105-46de-c33d-e8d0fd93b1de"
      },
      "execution_count": null,
      "outputs": [
        {
          "output_type": "execute_result",
          "data": {
            "text/plain": [
              "Index(['HeartDiseaseorAttack', 'HighBP', 'HighChol', 'CholCheck', 'BMI',\n",
              "       'Smoker', 'Stroke', 'Diabetes', 'PhysActivity', 'Fruits', 'Veggies',\n",
              "       'HvyAlcoholConsump', 'AnyHealthcare', 'NoDocbcCost', 'GenHlth',\n",
              "       'MentHlth', 'PhysHlth', 'DiffWalk', 'Sex', 'Age', 'Education',\n",
              "       'Income'],\n",
              "      dtype='object')"
            ]
          },
          "metadata": {},
          "execution_count": 10
        }
      ]
    },
    {
      "cell_type": "code",
      "source": [
        "heart_disease.isnull().sum()"
      ],
      "metadata": {
        "id": "5ATxWHc4P0UT",
        "colab": {
          "base_uri": "https://localhost:8080/"
        },
        "outputId": "11367db7-3f9b-42eb-9467-e049fdbc3b76"
      },
      "execution_count": null,
      "outputs": [
        {
          "output_type": "execute_result",
          "data": {
            "text/plain": [
              "HeartDiseaseorAttack    0\n",
              "HighBP                  0\n",
              "HighChol                0\n",
              "CholCheck               0\n",
              "BMI                     0\n",
              "Smoker                  0\n",
              "Stroke                  0\n",
              "Diabetes                0\n",
              "PhysActivity            0\n",
              "Fruits                  0\n",
              "Veggies                 0\n",
              "HvyAlcoholConsump       0\n",
              "AnyHealthcare           0\n",
              "NoDocbcCost             0\n",
              "GenHlth                 0\n",
              "MentHlth                0\n",
              "PhysHlth                0\n",
              "DiffWalk                0\n",
              "Sex                     0\n",
              "Age                     0\n",
              "Education               0\n",
              "Income                  0\n",
              "dtype: int64"
            ]
          },
          "metadata": {},
          "execution_count": 11
        }
      ]
    },
    {
      "cell_type": "code",
      "source": [
        "features = heart_disease.drop('HeartDiseaseorAttack', axis = 1)\n",
        "labels = heart_disease['HeartDiseaseorAttack']\n",
        "heart_disease_train_features, heart_disease_test_features, heart_disease_train_labels, heart_disease_test_labels = train_test_split(\n",
        "    features, labels, test_size=0.3, random_state=101)"
      ],
      "metadata": {
        "id": "wEqrdUCQHE7I"
      },
      "execution_count": null,
      "outputs": []
    },
    {
      "cell_type": "code",
      "source": [
        "heart_disease_train_features.describe()"
      ],
      "metadata": {
        "id": "Q082O_VdKW7z",
        "colab": {
          "base_uri": "https://localhost:8080/",
          "height": 394
        },
        "outputId": "9a6d892b-d0f3-4fb5-88c6-e08a6334856e"
      },
      "execution_count": null,
      "outputs": [
        {
          "output_type": "execute_result",
          "data": {
            "text/plain": [
              "              HighBP       HighChol      CholCheck            BMI  \\\n",
              "count  177576.000000  177576.000000  177576.000000  177576.000000   \n",
              "mean        0.429427       0.423441       0.962855      28.385165   \n",
              "std         0.494996       0.494105       0.189117       6.617613   \n",
              "min         0.000000       0.000000       0.000000      12.000000   \n",
              "25%         0.000000       0.000000       1.000000      24.000000   \n",
              "50%         0.000000       0.000000       1.000000      27.000000   \n",
              "75%         1.000000       1.000000       1.000000      31.000000   \n",
              "max         1.000000       1.000000       1.000000      98.000000   \n",
              "\n",
              "              Smoker         Stroke       Diabetes   PhysActivity  \\\n",
              "count  177576.000000  177576.000000  177576.000000  177576.000000   \n",
              "mean        0.442616       0.040642       0.295676       0.756898   \n",
              "std         0.496698       0.197459       0.696794       0.428957   \n",
              "min         0.000000       0.000000       0.000000       0.000000   \n",
              "25%         0.000000       0.000000       0.000000       1.000000   \n",
              "50%         0.000000       0.000000       0.000000       1.000000   \n",
              "75%         1.000000       0.000000       0.000000       1.000000   \n",
              "max         1.000000       1.000000       2.000000       1.000000   \n",
              "\n",
              "              Fruits        Veggies  ...  AnyHealthcare    NoDocbcCost  \\\n",
              "count  177576.000000  177576.000000  ...  177576.000000  177576.000000   \n",
              "mean        0.633503       0.811309  ...       0.951159       0.084415   \n",
              "std         0.481849       0.391264  ...       0.215536       0.278009   \n",
              "min         0.000000       0.000000  ...       0.000000       0.000000   \n",
              "25%         0.000000       1.000000  ...       1.000000       0.000000   \n",
              "50%         1.000000       1.000000  ...       1.000000       0.000000   \n",
              "75%         1.000000       1.000000  ...       1.000000       0.000000   \n",
              "max         1.000000       1.000000  ...       1.000000       1.000000   \n",
              "\n",
              "             GenHlth       MentHlth       PhysHlth       DiffWalk  \\\n",
              "count  177576.000000  177576.000000  177576.000000  177576.000000   \n",
              "mean        2.509799       3.182249       4.235561       0.168215   \n",
              "std         1.067290       7.425181       8.709490       0.374058   \n",
              "min         1.000000       0.000000       0.000000       0.000000   \n",
              "25%         2.000000       0.000000       0.000000       0.000000   \n",
              "50%         2.000000       0.000000       0.000000       0.000000   \n",
              "75%         3.000000       2.000000       3.000000       0.000000   \n",
              "max         5.000000      30.000000      30.000000       1.000000   \n",
              "\n",
              "                 Sex            Age      Education         Income  \n",
              "count  177576.000000  177576.000000  177576.000000  177576.000000  \n",
              "mean        0.440037       8.033529       5.051184       6.053183  \n",
              "std         0.496393       3.055898       0.985543       2.071801  \n",
              "min         0.000000       1.000000       1.000000       1.000000  \n",
              "25%         0.000000       6.000000       4.000000       5.000000  \n",
              "50%         0.000000       8.000000       5.000000       7.000000  \n",
              "75%         1.000000      10.000000       6.000000       8.000000  \n",
              "max         1.000000      13.000000       6.000000       8.000000  \n",
              "\n",
              "[8 rows x 21 columns]"
            ],
            "text/html": [
              "\n",
              "  <div id=\"df-27ba58ed-1cb7-41d6-b411-21727f4215f3\">\n",
              "    <div class=\"colab-df-container\">\n",
              "      <div>\n",
              "<style scoped>\n",
              "    .dataframe tbody tr th:only-of-type {\n",
              "        vertical-align: middle;\n",
              "    }\n",
              "\n",
              "    .dataframe tbody tr th {\n",
              "        vertical-align: top;\n",
              "    }\n",
              "\n",
              "    .dataframe thead th {\n",
              "        text-align: right;\n",
              "    }\n",
              "</style>\n",
              "<table border=\"1\" class=\"dataframe\">\n",
              "  <thead>\n",
              "    <tr style=\"text-align: right;\">\n",
              "      <th></th>\n",
              "      <th>HighBP</th>\n",
              "      <th>HighChol</th>\n",
              "      <th>CholCheck</th>\n",
              "      <th>BMI</th>\n",
              "      <th>Smoker</th>\n",
              "      <th>Stroke</th>\n",
              "      <th>Diabetes</th>\n",
              "      <th>PhysActivity</th>\n",
              "      <th>Fruits</th>\n",
              "      <th>Veggies</th>\n",
              "      <th>...</th>\n",
              "      <th>AnyHealthcare</th>\n",
              "      <th>NoDocbcCost</th>\n",
              "      <th>GenHlth</th>\n",
              "      <th>MentHlth</th>\n",
              "      <th>PhysHlth</th>\n",
              "      <th>DiffWalk</th>\n",
              "      <th>Sex</th>\n",
              "      <th>Age</th>\n",
              "      <th>Education</th>\n",
              "      <th>Income</th>\n",
              "    </tr>\n",
              "  </thead>\n",
              "  <tbody>\n",
              "    <tr>\n",
              "      <th>count</th>\n",
              "      <td>177576.000000</td>\n",
              "      <td>177576.000000</td>\n",
              "      <td>177576.000000</td>\n",
              "      <td>177576.000000</td>\n",
              "      <td>177576.000000</td>\n",
              "      <td>177576.000000</td>\n",
              "      <td>177576.000000</td>\n",
              "      <td>177576.000000</td>\n",
              "      <td>177576.000000</td>\n",
              "      <td>177576.000000</td>\n",
              "      <td>...</td>\n",
              "      <td>177576.000000</td>\n",
              "      <td>177576.000000</td>\n",
              "      <td>177576.000000</td>\n",
              "      <td>177576.000000</td>\n",
              "      <td>177576.000000</td>\n",
              "      <td>177576.000000</td>\n",
              "      <td>177576.000000</td>\n",
              "      <td>177576.000000</td>\n",
              "      <td>177576.000000</td>\n",
              "      <td>177576.000000</td>\n",
              "    </tr>\n",
              "    <tr>\n",
              "      <th>mean</th>\n",
              "      <td>0.429427</td>\n",
              "      <td>0.423441</td>\n",
              "      <td>0.962855</td>\n",
              "      <td>28.385165</td>\n",
              "      <td>0.442616</td>\n",
              "      <td>0.040642</td>\n",
              "      <td>0.295676</td>\n",
              "      <td>0.756898</td>\n",
              "      <td>0.633503</td>\n",
              "      <td>0.811309</td>\n",
              "      <td>...</td>\n",
              "      <td>0.951159</td>\n",
              "      <td>0.084415</td>\n",
              "      <td>2.509799</td>\n",
              "      <td>3.182249</td>\n",
              "      <td>4.235561</td>\n",
              "      <td>0.168215</td>\n",
              "      <td>0.440037</td>\n",
              "      <td>8.033529</td>\n",
              "      <td>5.051184</td>\n",
              "      <td>6.053183</td>\n",
              "    </tr>\n",
              "    <tr>\n",
              "      <th>std</th>\n",
              "      <td>0.494996</td>\n",
              "      <td>0.494105</td>\n",
              "      <td>0.189117</td>\n",
              "      <td>6.617613</td>\n",
              "      <td>0.496698</td>\n",
              "      <td>0.197459</td>\n",
              "      <td>0.696794</td>\n",
              "      <td>0.428957</td>\n",
              "      <td>0.481849</td>\n",
              "      <td>0.391264</td>\n",
              "      <td>...</td>\n",
              "      <td>0.215536</td>\n",
              "      <td>0.278009</td>\n",
              "      <td>1.067290</td>\n",
              "      <td>7.425181</td>\n",
              "      <td>8.709490</td>\n",
              "      <td>0.374058</td>\n",
              "      <td>0.496393</td>\n",
              "      <td>3.055898</td>\n",
              "      <td>0.985543</td>\n",
              "      <td>2.071801</td>\n",
              "    </tr>\n",
              "    <tr>\n",
              "      <th>min</th>\n",
              "      <td>0.000000</td>\n",
              "      <td>0.000000</td>\n",
              "      <td>0.000000</td>\n",
              "      <td>12.000000</td>\n",
              "      <td>0.000000</td>\n",
              "      <td>0.000000</td>\n",
              "      <td>0.000000</td>\n",
              "      <td>0.000000</td>\n",
              "      <td>0.000000</td>\n",
              "      <td>0.000000</td>\n",
              "      <td>...</td>\n",
              "      <td>0.000000</td>\n",
              "      <td>0.000000</td>\n",
              "      <td>1.000000</td>\n",
              "      <td>0.000000</td>\n",
              "      <td>0.000000</td>\n",
              "      <td>0.000000</td>\n",
              "      <td>0.000000</td>\n",
              "      <td>1.000000</td>\n",
              "      <td>1.000000</td>\n",
              "      <td>1.000000</td>\n",
              "    </tr>\n",
              "    <tr>\n",
              "      <th>25%</th>\n",
              "      <td>0.000000</td>\n",
              "      <td>0.000000</td>\n",
              "      <td>1.000000</td>\n",
              "      <td>24.000000</td>\n",
              "      <td>0.000000</td>\n",
              "      <td>0.000000</td>\n",
              "      <td>0.000000</td>\n",
              "      <td>1.000000</td>\n",
              "      <td>0.000000</td>\n",
              "      <td>1.000000</td>\n",
              "      <td>...</td>\n",
              "      <td>1.000000</td>\n",
              "      <td>0.000000</td>\n",
              "      <td>2.000000</td>\n",
              "      <td>0.000000</td>\n",
              "      <td>0.000000</td>\n",
              "      <td>0.000000</td>\n",
              "      <td>0.000000</td>\n",
              "      <td>6.000000</td>\n",
              "      <td>4.000000</td>\n",
              "      <td>5.000000</td>\n",
              "    </tr>\n",
              "    <tr>\n",
              "      <th>50%</th>\n",
              "      <td>0.000000</td>\n",
              "      <td>0.000000</td>\n",
              "      <td>1.000000</td>\n",
              "      <td>27.000000</td>\n",
              "      <td>0.000000</td>\n",
              "      <td>0.000000</td>\n",
              "      <td>0.000000</td>\n",
              "      <td>1.000000</td>\n",
              "      <td>1.000000</td>\n",
              "      <td>1.000000</td>\n",
              "      <td>...</td>\n",
              "      <td>1.000000</td>\n",
              "      <td>0.000000</td>\n",
              "      <td>2.000000</td>\n",
              "      <td>0.000000</td>\n",
              "      <td>0.000000</td>\n",
              "      <td>0.000000</td>\n",
              "      <td>0.000000</td>\n",
              "      <td>8.000000</td>\n",
              "      <td>5.000000</td>\n",
              "      <td>7.000000</td>\n",
              "    </tr>\n",
              "    <tr>\n",
              "      <th>75%</th>\n",
              "      <td>1.000000</td>\n",
              "      <td>1.000000</td>\n",
              "      <td>1.000000</td>\n",
              "      <td>31.000000</td>\n",
              "      <td>1.000000</td>\n",
              "      <td>0.000000</td>\n",
              "      <td>0.000000</td>\n",
              "      <td>1.000000</td>\n",
              "      <td>1.000000</td>\n",
              "      <td>1.000000</td>\n",
              "      <td>...</td>\n",
              "      <td>1.000000</td>\n",
              "      <td>0.000000</td>\n",
              "      <td>3.000000</td>\n",
              "      <td>2.000000</td>\n",
              "      <td>3.000000</td>\n",
              "      <td>0.000000</td>\n",
              "      <td>1.000000</td>\n",
              "      <td>10.000000</td>\n",
              "      <td>6.000000</td>\n",
              "      <td>8.000000</td>\n",
              "    </tr>\n",
              "    <tr>\n",
              "      <th>max</th>\n",
              "      <td>1.000000</td>\n",
              "      <td>1.000000</td>\n",
              "      <td>1.000000</td>\n",
              "      <td>98.000000</td>\n",
              "      <td>1.000000</td>\n",
              "      <td>1.000000</td>\n",
              "      <td>2.000000</td>\n",
              "      <td>1.000000</td>\n",
              "      <td>1.000000</td>\n",
              "      <td>1.000000</td>\n",
              "      <td>...</td>\n",
              "      <td>1.000000</td>\n",
              "      <td>1.000000</td>\n",
              "      <td>5.000000</td>\n",
              "      <td>30.000000</td>\n",
              "      <td>30.000000</td>\n",
              "      <td>1.000000</td>\n",
              "      <td>1.000000</td>\n",
              "      <td>13.000000</td>\n",
              "      <td>6.000000</td>\n",
              "      <td>8.000000</td>\n",
              "    </tr>\n",
              "  </tbody>\n",
              "</table>\n",
              "<p>8 rows × 21 columns</p>\n",
              "</div>\n",
              "      <button class=\"colab-df-convert\" onclick=\"convertToInteractive('df-27ba58ed-1cb7-41d6-b411-21727f4215f3')\"\n",
              "              title=\"Convert this dataframe to an interactive table.\"\n",
              "              style=\"display:none;\">\n",
              "        \n",
              "  <svg xmlns=\"http://www.w3.org/2000/svg\" height=\"24px\"viewBox=\"0 0 24 24\"\n",
              "       width=\"24px\">\n",
              "    <path d=\"M0 0h24v24H0V0z\" fill=\"none\"/>\n",
              "    <path d=\"M18.56 5.44l.94 2.06.94-2.06 2.06-.94-2.06-.94-.94-2.06-.94 2.06-2.06.94zm-11 1L8.5 8.5l.94-2.06 2.06-.94-2.06-.94L8.5 2.5l-.94 2.06-2.06.94zm10 10l.94 2.06.94-2.06 2.06-.94-2.06-.94-.94-2.06-.94 2.06-2.06.94z\"/><path d=\"M17.41 7.96l-1.37-1.37c-.4-.4-.92-.59-1.43-.59-.52 0-1.04.2-1.43.59L10.3 9.45l-7.72 7.72c-.78.78-.78 2.05 0 2.83L4 21.41c.39.39.9.59 1.41.59.51 0 1.02-.2 1.41-.59l7.78-7.78 2.81-2.81c.8-.78.8-2.07 0-2.86zM5.41 20L4 18.59l7.72-7.72 1.47 1.35L5.41 20z\"/>\n",
              "  </svg>\n",
              "      </button>\n",
              "      \n",
              "  <style>\n",
              "    .colab-df-container {\n",
              "      display:flex;\n",
              "      flex-wrap:wrap;\n",
              "      gap: 12px;\n",
              "    }\n",
              "\n",
              "    .colab-df-convert {\n",
              "      background-color: #E8F0FE;\n",
              "      border: none;\n",
              "      border-radius: 50%;\n",
              "      cursor: pointer;\n",
              "      display: none;\n",
              "      fill: #1967D2;\n",
              "      height: 32px;\n",
              "      padding: 0 0 0 0;\n",
              "      width: 32px;\n",
              "    }\n",
              "\n",
              "    .colab-df-convert:hover {\n",
              "      background-color: #E2EBFA;\n",
              "      box-shadow: 0px 1px 2px rgba(60, 64, 67, 0.3), 0px 1px 3px 1px rgba(60, 64, 67, 0.15);\n",
              "      fill: #174EA6;\n",
              "    }\n",
              "\n",
              "    [theme=dark] .colab-df-convert {\n",
              "      background-color: #3B4455;\n",
              "      fill: #D2E3FC;\n",
              "    }\n",
              "\n",
              "    [theme=dark] .colab-df-convert:hover {\n",
              "      background-color: #434B5C;\n",
              "      box-shadow: 0px 1px 3px 1px rgba(0, 0, 0, 0.15);\n",
              "      filter: drop-shadow(0px 1px 2px rgba(0, 0, 0, 0.3));\n",
              "      fill: #FFFFFF;\n",
              "    }\n",
              "  </style>\n",
              "\n",
              "      <script>\n",
              "        const buttonEl =\n",
              "          document.querySelector('#df-27ba58ed-1cb7-41d6-b411-21727f4215f3 button.colab-df-convert');\n",
              "        buttonEl.style.display =\n",
              "          google.colab.kernel.accessAllowed ? 'block' : 'none';\n",
              "\n",
              "        async function convertToInteractive(key) {\n",
              "          const element = document.querySelector('#df-27ba58ed-1cb7-41d6-b411-21727f4215f3');\n",
              "          const dataTable =\n",
              "            await google.colab.kernel.invokeFunction('convertToInteractive',\n",
              "                                                     [key], {});\n",
              "          if (!dataTable) return;\n",
              "\n",
              "          const docLinkHtml = 'Like what you see? Visit the ' +\n",
              "            '<a target=\"_blank\" href=https://colab.research.google.com/notebooks/data_table.ipynb>data table notebook</a>'\n",
              "            + ' to learn more about interactive tables.';\n",
              "          element.innerHTML = '';\n",
              "          dataTable['output_type'] = 'display_data';\n",
              "          await google.colab.output.renderOutput(dataTable, element);\n",
              "          const docLink = document.createElement('div');\n",
              "          docLink.innerHTML = docLinkHtml;\n",
              "          element.appendChild(docLink);\n",
              "        }\n",
              "      </script>\n",
              "    </div>\n",
              "  </div>\n",
              "  "
            ]
          },
          "metadata": {},
          "execution_count": 13
        }
      ]
    },
    {
      "cell_type": "code",
      "source": [
        "heart_disease_train_features['BMI'] = MinMaxScaler().fit_transform(heart_disease_train_features[['BMI']])\n",
        "heart_disease_test_features['BMI'] = MinMaxScaler().fit_transform(heart_disease_test_features[['BMI']])\n",
        "\n",
        "heart_disease_train_features['GenHlth'] = MinMaxScaler().fit_transform(heart_disease_train_features[['GenHlth']])\n",
        "heart_disease_test_features['GenHlth'] = MinMaxScaler().fit_transform(heart_disease_test_features[['GenHlth']])\n",
        "\n",
        "heart_disease_train_features['MentHlth'] = MinMaxScaler().fit_transform(heart_disease_train_features[['MentHlth']])\n",
        "heart_disease_test_features['MentHlth'] = MinMaxScaler().fit_transform(heart_disease_test_features[['MentHlth']])\n",
        "\n",
        "heart_disease_train_features['PhysHlth'] = MinMaxScaler().fit_transform(heart_disease_train_features[['PhysHlth']])\n",
        "heart_disease_test_features['PhysHlth'] = MinMaxScaler().fit_transform(heart_disease_test_features[['PhysHlth']])\n",
        "\n",
        "heart_disease_train_features['Age'] = MinMaxScaler().fit_transform(heart_disease_train_features[['Age']])\n",
        "heart_disease_test_features['Age'] = MinMaxScaler().fit_transform(heart_disease_test_features[['Age']])\n",
        "\n",
        "heart_disease_train_features['Education'] = MinMaxScaler().fit_transform(heart_disease_train_features[['Education']])\n",
        "heart_disease_test_features['Education'] = MinMaxScaler().fit_transform(heart_disease_test_features[['Education']])\n",
        "\n",
        "heart_disease_train_features['Income'] = MinMaxScaler().fit_transform(heart_disease_train_features[['Income']])\n",
        "heart_disease_test_features['Income'] = MinMaxScaler().fit_transform(heart_disease_test_features[['Income']])"
      ],
      "metadata": {
        "id": "3tzDKimngP7Y"
      },
      "execution_count": null,
      "outputs": []
    },
    {
      "cell_type": "code",
      "source": [
        "heart_disease_train_features.describe()"
      ],
      "metadata": {
        "id": "zTQ6DD4s35qA",
        "colab": {
          "base_uri": "https://localhost:8080/",
          "height": 394
        },
        "outputId": "f57ca507-7120-463d-e3ae-f3f51b217adf"
      },
      "execution_count": null,
      "outputs": [
        {
          "output_type": "execute_result",
          "data": {
            "text/plain": [
              "              HighBP       HighChol      CholCheck            BMI  \\\n",
              "count  177576.000000  177576.000000  177576.000000  177576.000000   \n",
              "mean        0.429427       0.423441       0.962855       0.190525   \n",
              "std         0.494996       0.494105       0.189117       0.076949   \n",
              "min         0.000000       0.000000       0.000000       0.000000   \n",
              "25%         0.000000       0.000000       1.000000       0.139535   \n",
              "50%         0.000000       0.000000       1.000000       0.174419   \n",
              "75%         1.000000       1.000000       1.000000       0.220930   \n",
              "max         1.000000       1.000000       1.000000       1.000000   \n",
              "\n",
              "              Smoker         Stroke       Diabetes   PhysActivity  \\\n",
              "count  177576.000000  177576.000000  177576.000000  177576.000000   \n",
              "mean        0.442616       0.040642       0.295676       0.756898   \n",
              "std         0.496698       0.197459       0.696794       0.428957   \n",
              "min         0.000000       0.000000       0.000000       0.000000   \n",
              "25%         0.000000       0.000000       0.000000       1.000000   \n",
              "50%         0.000000       0.000000       0.000000       1.000000   \n",
              "75%         1.000000       0.000000       0.000000       1.000000   \n",
              "max         1.000000       1.000000       2.000000       1.000000   \n",
              "\n",
              "              Fruits        Veggies  ...  AnyHealthcare    NoDocbcCost  \\\n",
              "count  177576.000000  177576.000000  ...  177576.000000  177576.000000   \n",
              "mean        0.633503       0.811309  ...       0.951159       0.084415   \n",
              "std         0.481849       0.391264  ...       0.215536       0.278009   \n",
              "min         0.000000       0.000000  ...       0.000000       0.000000   \n",
              "25%         0.000000       1.000000  ...       1.000000       0.000000   \n",
              "50%         1.000000       1.000000  ...       1.000000       0.000000   \n",
              "75%         1.000000       1.000000  ...       1.000000       0.000000   \n",
              "max         1.000000       1.000000  ...       1.000000       1.000000   \n",
              "\n",
              "             GenHlth       MentHlth       PhysHlth       DiffWalk  \\\n",
              "count  177576.000000  177576.000000  177576.000000  177576.000000   \n",
              "mean        0.377450       0.106075       0.141185       0.168215   \n",
              "std         0.266822       0.247506       0.290316       0.374058   \n",
              "min         0.000000       0.000000       0.000000       0.000000   \n",
              "25%         0.250000       0.000000       0.000000       0.000000   \n",
              "50%         0.250000       0.000000       0.000000       0.000000   \n",
              "75%         0.500000       0.066667       0.100000       0.000000   \n",
              "max         1.000000       1.000000       1.000000       1.000000   \n",
              "\n",
              "                 Sex            Age      Education         Income  \n",
              "count  177576.000000  177576.000000  177576.000000  177576.000000  \n",
              "mean        0.440037       0.586127       0.810237       0.721883  \n",
              "std         0.496393       0.254658       0.197109       0.295972  \n",
              "min         0.000000       0.000000       0.000000       0.000000  \n",
              "25%         0.000000       0.416667       0.600000       0.571429  \n",
              "50%         0.000000       0.583333       0.800000       0.857143  \n",
              "75%         1.000000       0.750000       1.000000       1.000000  \n",
              "max         1.000000       1.000000       1.000000       1.000000  \n",
              "\n",
              "[8 rows x 21 columns]"
            ],
            "text/html": [
              "\n",
              "  <div id=\"df-d66007c5-f7ff-4df1-8cf6-8509da48918a\">\n",
              "    <div class=\"colab-df-container\">\n",
              "      <div>\n",
              "<style scoped>\n",
              "    .dataframe tbody tr th:only-of-type {\n",
              "        vertical-align: middle;\n",
              "    }\n",
              "\n",
              "    .dataframe tbody tr th {\n",
              "        vertical-align: top;\n",
              "    }\n",
              "\n",
              "    .dataframe thead th {\n",
              "        text-align: right;\n",
              "    }\n",
              "</style>\n",
              "<table border=\"1\" class=\"dataframe\">\n",
              "  <thead>\n",
              "    <tr style=\"text-align: right;\">\n",
              "      <th></th>\n",
              "      <th>HighBP</th>\n",
              "      <th>HighChol</th>\n",
              "      <th>CholCheck</th>\n",
              "      <th>BMI</th>\n",
              "      <th>Smoker</th>\n",
              "      <th>Stroke</th>\n",
              "      <th>Diabetes</th>\n",
              "      <th>PhysActivity</th>\n",
              "      <th>Fruits</th>\n",
              "      <th>Veggies</th>\n",
              "      <th>...</th>\n",
              "      <th>AnyHealthcare</th>\n",
              "      <th>NoDocbcCost</th>\n",
              "      <th>GenHlth</th>\n",
              "      <th>MentHlth</th>\n",
              "      <th>PhysHlth</th>\n",
              "      <th>DiffWalk</th>\n",
              "      <th>Sex</th>\n",
              "      <th>Age</th>\n",
              "      <th>Education</th>\n",
              "      <th>Income</th>\n",
              "    </tr>\n",
              "  </thead>\n",
              "  <tbody>\n",
              "    <tr>\n",
              "      <th>count</th>\n",
              "      <td>177576.000000</td>\n",
              "      <td>177576.000000</td>\n",
              "      <td>177576.000000</td>\n",
              "      <td>177576.000000</td>\n",
              "      <td>177576.000000</td>\n",
              "      <td>177576.000000</td>\n",
              "      <td>177576.000000</td>\n",
              "      <td>177576.000000</td>\n",
              "      <td>177576.000000</td>\n",
              "      <td>177576.000000</td>\n",
              "      <td>...</td>\n",
              "      <td>177576.000000</td>\n",
              "      <td>177576.000000</td>\n",
              "      <td>177576.000000</td>\n",
              "      <td>177576.000000</td>\n",
              "      <td>177576.000000</td>\n",
              "      <td>177576.000000</td>\n",
              "      <td>177576.000000</td>\n",
              "      <td>177576.000000</td>\n",
              "      <td>177576.000000</td>\n",
              "      <td>177576.000000</td>\n",
              "    </tr>\n",
              "    <tr>\n",
              "      <th>mean</th>\n",
              "      <td>0.429427</td>\n",
              "      <td>0.423441</td>\n",
              "      <td>0.962855</td>\n",
              "      <td>0.190525</td>\n",
              "      <td>0.442616</td>\n",
              "      <td>0.040642</td>\n",
              "      <td>0.295676</td>\n",
              "      <td>0.756898</td>\n",
              "      <td>0.633503</td>\n",
              "      <td>0.811309</td>\n",
              "      <td>...</td>\n",
              "      <td>0.951159</td>\n",
              "      <td>0.084415</td>\n",
              "      <td>0.377450</td>\n",
              "      <td>0.106075</td>\n",
              "      <td>0.141185</td>\n",
              "      <td>0.168215</td>\n",
              "      <td>0.440037</td>\n",
              "      <td>0.586127</td>\n",
              "      <td>0.810237</td>\n",
              "      <td>0.721883</td>\n",
              "    </tr>\n",
              "    <tr>\n",
              "      <th>std</th>\n",
              "      <td>0.494996</td>\n",
              "      <td>0.494105</td>\n",
              "      <td>0.189117</td>\n",
              "      <td>0.076949</td>\n",
              "      <td>0.496698</td>\n",
              "      <td>0.197459</td>\n",
              "      <td>0.696794</td>\n",
              "      <td>0.428957</td>\n",
              "      <td>0.481849</td>\n",
              "      <td>0.391264</td>\n",
              "      <td>...</td>\n",
              "      <td>0.215536</td>\n",
              "      <td>0.278009</td>\n",
              "      <td>0.266822</td>\n",
              "      <td>0.247506</td>\n",
              "      <td>0.290316</td>\n",
              "      <td>0.374058</td>\n",
              "      <td>0.496393</td>\n",
              "      <td>0.254658</td>\n",
              "      <td>0.197109</td>\n",
              "      <td>0.295972</td>\n",
              "    </tr>\n",
              "    <tr>\n",
              "      <th>min</th>\n",
              "      <td>0.000000</td>\n",
              "      <td>0.000000</td>\n",
              "      <td>0.000000</td>\n",
              "      <td>0.000000</td>\n",
              "      <td>0.000000</td>\n",
              "      <td>0.000000</td>\n",
              "      <td>0.000000</td>\n",
              "      <td>0.000000</td>\n",
              "      <td>0.000000</td>\n",
              "      <td>0.000000</td>\n",
              "      <td>...</td>\n",
              "      <td>0.000000</td>\n",
              "      <td>0.000000</td>\n",
              "      <td>0.000000</td>\n",
              "      <td>0.000000</td>\n",
              "      <td>0.000000</td>\n",
              "      <td>0.000000</td>\n",
              "      <td>0.000000</td>\n",
              "      <td>0.000000</td>\n",
              "      <td>0.000000</td>\n",
              "      <td>0.000000</td>\n",
              "    </tr>\n",
              "    <tr>\n",
              "      <th>25%</th>\n",
              "      <td>0.000000</td>\n",
              "      <td>0.000000</td>\n",
              "      <td>1.000000</td>\n",
              "      <td>0.139535</td>\n",
              "      <td>0.000000</td>\n",
              "      <td>0.000000</td>\n",
              "      <td>0.000000</td>\n",
              "      <td>1.000000</td>\n",
              "      <td>0.000000</td>\n",
              "      <td>1.000000</td>\n",
              "      <td>...</td>\n",
              "      <td>1.000000</td>\n",
              "      <td>0.000000</td>\n",
              "      <td>0.250000</td>\n",
              "      <td>0.000000</td>\n",
              "      <td>0.000000</td>\n",
              "      <td>0.000000</td>\n",
              "      <td>0.000000</td>\n",
              "      <td>0.416667</td>\n",
              "      <td>0.600000</td>\n",
              "      <td>0.571429</td>\n",
              "    </tr>\n",
              "    <tr>\n",
              "      <th>50%</th>\n",
              "      <td>0.000000</td>\n",
              "      <td>0.000000</td>\n",
              "      <td>1.000000</td>\n",
              "      <td>0.174419</td>\n",
              "      <td>0.000000</td>\n",
              "      <td>0.000000</td>\n",
              "      <td>0.000000</td>\n",
              "      <td>1.000000</td>\n",
              "      <td>1.000000</td>\n",
              "      <td>1.000000</td>\n",
              "      <td>...</td>\n",
              "      <td>1.000000</td>\n",
              "      <td>0.000000</td>\n",
              "      <td>0.250000</td>\n",
              "      <td>0.000000</td>\n",
              "      <td>0.000000</td>\n",
              "      <td>0.000000</td>\n",
              "      <td>0.000000</td>\n",
              "      <td>0.583333</td>\n",
              "      <td>0.800000</td>\n",
              "      <td>0.857143</td>\n",
              "    </tr>\n",
              "    <tr>\n",
              "      <th>75%</th>\n",
              "      <td>1.000000</td>\n",
              "      <td>1.000000</td>\n",
              "      <td>1.000000</td>\n",
              "      <td>0.220930</td>\n",
              "      <td>1.000000</td>\n",
              "      <td>0.000000</td>\n",
              "      <td>0.000000</td>\n",
              "      <td>1.000000</td>\n",
              "      <td>1.000000</td>\n",
              "      <td>1.000000</td>\n",
              "      <td>...</td>\n",
              "      <td>1.000000</td>\n",
              "      <td>0.000000</td>\n",
              "      <td>0.500000</td>\n",
              "      <td>0.066667</td>\n",
              "      <td>0.100000</td>\n",
              "      <td>0.000000</td>\n",
              "      <td>1.000000</td>\n",
              "      <td>0.750000</td>\n",
              "      <td>1.000000</td>\n",
              "      <td>1.000000</td>\n",
              "    </tr>\n",
              "    <tr>\n",
              "      <th>max</th>\n",
              "      <td>1.000000</td>\n",
              "      <td>1.000000</td>\n",
              "      <td>1.000000</td>\n",
              "      <td>1.000000</td>\n",
              "      <td>1.000000</td>\n",
              "      <td>1.000000</td>\n",
              "      <td>2.000000</td>\n",
              "      <td>1.000000</td>\n",
              "      <td>1.000000</td>\n",
              "      <td>1.000000</td>\n",
              "      <td>...</td>\n",
              "      <td>1.000000</td>\n",
              "      <td>1.000000</td>\n",
              "      <td>1.000000</td>\n",
              "      <td>1.000000</td>\n",
              "      <td>1.000000</td>\n",
              "      <td>1.000000</td>\n",
              "      <td>1.000000</td>\n",
              "      <td>1.000000</td>\n",
              "      <td>1.000000</td>\n",
              "      <td>1.000000</td>\n",
              "    </tr>\n",
              "  </tbody>\n",
              "</table>\n",
              "<p>8 rows × 21 columns</p>\n",
              "</div>\n",
              "      <button class=\"colab-df-convert\" onclick=\"convertToInteractive('df-d66007c5-f7ff-4df1-8cf6-8509da48918a')\"\n",
              "              title=\"Convert this dataframe to an interactive table.\"\n",
              "              style=\"display:none;\">\n",
              "        \n",
              "  <svg xmlns=\"http://www.w3.org/2000/svg\" height=\"24px\"viewBox=\"0 0 24 24\"\n",
              "       width=\"24px\">\n",
              "    <path d=\"M0 0h24v24H0V0z\" fill=\"none\"/>\n",
              "    <path d=\"M18.56 5.44l.94 2.06.94-2.06 2.06-.94-2.06-.94-.94-2.06-.94 2.06-2.06.94zm-11 1L8.5 8.5l.94-2.06 2.06-.94-2.06-.94L8.5 2.5l-.94 2.06-2.06.94zm10 10l.94 2.06.94-2.06 2.06-.94-2.06-.94-.94-2.06-.94 2.06-2.06.94z\"/><path d=\"M17.41 7.96l-1.37-1.37c-.4-.4-.92-.59-1.43-.59-.52 0-1.04.2-1.43.59L10.3 9.45l-7.72 7.72c-.78.78-.78 2.05 0 2.83L4 21.41c.39.39.9.59 1.41.59.51 0 1.02-.2 1.41-.59l7.78-7.78 2.81-2.81c.8-.78.8-2.07 0-2.86zM5.41 20L4 18.59l7.72-7.72 1.47 1.35L5.41 20z\"/>\n",
              "  </svg>\n",
              "      </button>\n",
              "      \n",
              "  <style>\n",
              "    .colab-df-container {\n",
              "      display:flex;\n",
              "      flex-wrap:wrap;\n",
              "      gap: 12px;\n",
              "    }\n",
              "\n",
              "    .colab-df-convert {\n",
              "      background-color: #E8F0FE;\n",
              "      border: none;\n",
              "      border-radius: 50%;\n",
              "      cursor: pointer;\n",
              "      display: none;\n",
              "      fill: #1967D2;\n",
              "      height: 32px;\n",
              "      padding: 0 0 0 0;\n",
              "      width: 32px;\n",
              "    }\n",
              "\n",
              "    .colab-df-convert:hover {\n",
              "      background-color: #E2EBFA;\n",
              "      box-shadow: 0px 1px 2px rgba(60, 64, 67, 0.3), 0px 1px 3px 1px rgba(60, 64, 67, 0.15);\n",
              "      fill: #174EA6;\n",
              "    }\n",
              "\n",
              "    [theme=dark] .colab-df-convert {\n",
              "      background-color: #3B4455;\n",
              "      fill: #D2E3FC;\n",
              "    }\n",
              "\n",
              "    [theme=dark] .colab-df-convert:hover {\n",
              "      background-color: #434B5C;\n",
              "      box-shadow: 0px 1px 3px 1px rgba(0, 0, 0, 0.15);\n",
              "      filter: drop-shadow(0px 1px 2px rgba(0, 0, 0, 0.3));\n",
              "      fill: #FFFFFF;\n",
              "    }\n",
              "  </style>\n",
              "\n",
              "      <script>\n",
              "        const buttonEl =\n",
              "          document.querySelector('#df-d66007c5-f7ff-4df1-8cf6-8509da48918a button.colab-df-convert');\n",
              "        buttonEl.style.display =\n",
              "          google.colab.kernel.accessAllowed ? 'block' : 'none';\n",
              "\n",
              "        async function convertToInteractive(key) {\n",
              "          const element = document.querySelector('#df-d66007c5-f7ff-4df1-8cf6-8509da48918a');\n",
              "          const dataTable =\n",
              "            await google.colab.kernel.invokeFunction('convertToInteractive',\n",
              "                                                     [key], {});\n",
              "          if (!dataTable) return;\n",
              "\n",
              "          const docLinkHtml = 'Like what you see? Visit the ' +\n",
              "            '<a target=\"_blank\" href=https://colab.research.google.com/notebooks/data_table.ipynb>data table notebook</a>'\n",
              "            + ' to learn more about interactive tables.';\n",
              "          element.innerHTML = '';\n",
              "          dataTable['output_type'] = 'display_data';\n",
              "          await google.colab.output.renderOutput(dataTable, element);\n",
              "          const docLink = document.createElement('div');\n",
              "          docLink.innerHTML = docLinkHtml;\n",
              "          element.appendChild(docLink);\n",
              "        }\n",
              "      </script>\n",
              "    </div>\n",
              "  </div>\n",
              "  "
            ]
          },
          "metadata": {},
          "execution_count": 15
        }
      ]
    },
    {
      "cell_type": "markdown",
      "source": [
        "## Income Dataset Transformation"
      ],
      "metadata": {
        "id": "8VJlOL_DeIm0"
      }
    },
    {
      "cell_type": "code",
      "source": [
        "income = pd.read_csv('/content/drive/MyDrive/train.csv')"
      ],
      "metadata": {
        "id": "igRPd1v4z7O7"
      },
      "execution_count": null,
      "outputs": []
    },
    {
      "cell_type": "code",
      "source": [
        "income.head()"
      ],
      "metadata": {
        "id": "RieZRYIodrx3",
        "colab": {
          "base_uri": "https://localhost:8080/"
        },
        "outputId": "c6308120-77c7-4d63-b5be-2562f79a8cb2"
      },
      "execution_count": null,
      "outputs": [
        {
          "output_type": "execute_result",
          "data": {
            "text/plain": [
              "   age  workclass  fnlwgt     education  educational-num      marital-status  \\\n",
              "0   67    Private  366425     Doctorate               16            Divorced   \n",
              "1   17    Private  244602          12th                8       Never-married   \n",
              "2   31    Private  174201     Bachelors               13  Married-civ-spouse   \n",
              "3   58  State-gov  110199       7th-8th                4  Married-civ-spouse   \n",
              "4   25  State-gov  149248  Some-college               10       Never-married   \n",
              "\n",
              "         occupation   relationship   race gender  capital-gain  capital-loss  \\\n",
              "0   Exec-managerial  Not-in-family  White   Male         99999             0   \n",
              "1     Other-service      Own-child  White   Male             0             0   \n",
              "2   Exec-managerial        Husband  White   Male             0             0   \n",
              "3  Transport-moving        Husband  White   Male             0             0   \n",
              "4     Other-service  Not-in-family  Black   Male             0             0   \n",
              "\n",
              "   hours-per-week native-country  income_>50K  \n",
              "0              60  United-States            1  \n",
              "1              15  United-States            0  \n",
              "2              40  United-States            1  \n",
              "3              40  United-States            0  \n",
              "4              40  United-States            0  "
            ],
            "text/html": [
              "\n",
              "  <div id=\"df-4d9a9184-61a7-4c56-afaf-077bd2664068\">\n",
              "    <div class=\"colab-df-container\">\n",
              "      <div>\n",
              "<style scoped>\n",
              "    .dataframe tbody tr th:only-of-type {\n",
              "        vertical-align: middle;\n",
              "    }\n",
              "\n",
              "    .dataframe tbody tr th {\n",
              "        vertical-align: top;\n",
              "    }\n",
              "\n",
              "    .dataframe thead th {\n",
              "        text-align: right;\n",
              "    }\n",
              "</style>\n",
              "<table border=\"1\" class=\"dataframe\">\n",
              "  <thead>\n",
              "    <tr style=\"text-align: right;\">\n",
              "      <th></th>\n",
              "      <th>age</th>\n",
              "      <th>workclass</th>\n",
              "      <th>fnlwgt</th>\n",
              "      <th>education</th>\n",
              "      <th>educational-num</th>\n",
              "      <th>marital-status</th>\n",
              "      <th>occupation</th>\n",
              "      <th>relationship</th>\n",
              "      <th>race</th>\n",
              "      <th>gender</th>\n",
              "      <th>capital-gain</th>\n",
              "      <th>capital-loss</th>\n",
              "      <th>hours-per-week</th>\n",
              "      <th>native-country</th>\n",
              "      <th>income_&gt;50K</th>\n",
              "    </tr>\n",
              "  </thead>\n",
              "  <tbody>\n",
              "    <tr>\n",
              "      <th>0</th>\n",
              "      <td>67</td>\n",
              "      <td>Private</td>\n",
              "      <td>366425</td>\n",
              "      <td>Doctorate</td>\n",
              "      <td>16</td>\n",
              "      <td>Divorced</td>\n",
              "      <td>Exec-managerial</td>\n",
              "      <td>Not-in-family</td>\n",
              "      <td>White</td>\n",
              "      <td>Male</td>\n",
              "      <td>99999</td>\n",
              "      <td>0</td>\n",
              "      <td>60</td>\n",
              "      <td>United-States</td>\n",
              "      <td>1</td>\n",
              "    </tr>\n",
              "    <tr>\n",
              "      <th>1</th>\n",
              "      <td>17</td>\n",
              "      <td>Private</td>\n",
              "      <td>244602</td>\n",
              "      <td>12th</td>\n",
              "      <td>8</td>\n",
              "      <td>Never-married</td>\n",
              "      <td>Other-service</td>\n",
              "      <td>Own-child</td>\n",
              "      <td>White</td>\n",
              "      <td>Male</td>\n",
              "      <td>0</td>\n",
              "      <td>0</td>\n",
              "      <td>15</td>\n",
              "      <td>United-States</td>\n",
              "      <td>0</td>\n",
              "    </tr>\n",
              "    <tr>\n",
              "      <th>2</th>\n",
              "      <td>31</td>\n",
              "      <td>Private</td>\n",
              "      <td>174201</td>\n",
              "      <td>Bachelors</td>\n",
              "      <td>13</td>\n",
              "      <td>Married-civ-spouse</td>\n",
              "      <td>Exec-managerial</td>\n",
              "      <td>Husband</td>\n",
              "      <td>White</td>\n",
              "      <td>Male</td>\n",
              "      <td>0</td>\n",
              "      <td>0</td>\n",
              "      <td>40</td>\n",
              "      <td>United-States</td>\n",
              "      <td>1</td>\n",
              "    </tr>\n",
              "    <tr>\n",
              "      <th>3</th>\n",
              "      <td>58</td>\n",
              "      <td>State-gov</td>\n",
              "      <td>110199</td>\n",
              "      <td>7th-8th</td>\n",
              "      <td>4</td>\n",
              "      <td>Married-civ-spouse</td>\n",
              "      <td>Transport-moving</td>\n",
              "      <td>Husband</td>\n",
              "      <td>White</td>\n",
              "      <td>Male</td>\n",
              "      <td>0</td>\n",
              "      <td>0</td>\n",
              "      <td>40</td>\n",
              "      <td>United-States</td>\n",
              "      <td>0</td>\n",
              "    </tr>\n",
              "    <tr>\n",
              "      <th>4</th>\n",
              "      <td>25</td>\n",
              "      <td>State-gov</td>\n",
              "      <td>149248</td>\n",
              "      <td>Some-college</td>\n",
              "      <td>10</td>\n",
              "      <td>Never-married</td>\n",
              "      <td>Other-service</td>\n",
              "      <td>Not-in-family</td>\n",
              "      <td>Black</td>\n",
              "      <td>Male</td>\n",
              "      <td>0</td>\n",
              "      <td>0</td>\n",
              "      <td>40</td>\n",
              "      <td>United-States</td>\n",
              "      <td>0</td>\n",
              "    </tr>\n",
              "  </tbody>\n",
              "</table>\n",
              "</div>\n",
              "      <button class=\"colab-df-convert\" onclick=\"convertToInteractive('df-4d9a9184-61a7-4c56-afaf-077bd2664068')\"\n",
              "              title=\"Convert this dataframe to an interactive table.\"\n",
              "              style=\"display:none;\">\n",
              "        \n",
              "  <svg xmlns=\"http://www.w3.org/2000/svg\" height=\"24px\"viewBox=\"0 0 24 24\"\n",
              "       width=\"24px\">\n",
              "    <path d=\"M0 0h24v24H0V0z\" fill=\"none\"/>\n",
              "    <path d=\"M18.56 5.44l.94 2.06.94-2.06 2.06-.94-2.06-.94-.94-2.06-.94 2.06-2.06.94zm-11 1L8.5 8.5l.94-2.06 2.06-.94-2.06-.94L8.5 2.5l-.94 2.06-2.06.94zm10 10l.94 2.06.94-2.06 2.06-.94-2.06-.94-.94-2.06-.94 2.06-2.06.94z\"/><path d=\"M17.41 7.96l-1.37-1.37c-.4-.4-.92-.59-1.43-.59-.52 0-1.04.2-1.43.59L10.3 9.45l-7.72 7.72c-.78.78-.78 2.05 0 2.83L4 21.41c.39.39.9.59 1.41.59.51 0 1.02-.2 1.41-.59l7.78-7.78 2.81-2.81c.8-.78.8-2.07 0-2.86zM5.41 20L4 18.59l7.72-7.72 1.47 1.35L5.41 20z\"/>\n",
              "  </svg>\n",
              "      </button>\n",
              "      \n",
              "  <style>\n",
              "    .colab-df-container {\n",
              "      display:flex;\n",
              "      flex-wrap:wrap;\n",
              "      gap: 12px;\n",
              "    }\n",
              "\n",
              "    .colab-df-convert {\n",
              "      background-color: #E8F0FE;\n",
              "      border: none;\n",
              "      border-radius: 50%;\n",
              "      cursor: pointer;\n",
              "      display: none;\n",
              "      fill: #1967D2;\n",
              "      height: 32px;\n",
              "      padding: 0 0 0 0;\n",
              "      width: 32px;\n",
              "    }\n",
              "\n",
              "    .colab-df-convert:hover {\n",
              "      background-color: #E2EBFA;\n",
              "      box-shadow: 0px 1px 2px rgba(60, 64, 67, 0.3), 0px 1px 3px 1px rgba(60, 64, 67, 0.15);\n",
              "      fill: #174EA6;\n",
              "    }\n",
              "\n",
              "    [theme=dark] .colab-df-convert {\n",
              "      background-color: #3B4455;\n",
              "      fill: #D2E3FC;\n",
              "    }\n",
              "\n",
              "    [theme=dark] .colab-df-convert:hover {\n",
              "      background-color: #434B5C;\n",
              "      box-shadow: 0px 1px 3px 1px rgba(0, 0, 0, 0.15);\n",
              "      filter: drop-shadow(0px 1px 2px rgba(0, 0, 0, 0.3));\n",
              "      fill: #FFFFFF;\n",
              "    }\n",
              "  </style>\n",
              "\n",
              "      <script>\n",
              "        const buttonEl =\n",
              "          document.querySelector('#df-4d9a9184-61a7-4c56-afaf-077bd2664068 button.colab-df-convert');\n",
              "        buttonEl.style.display =\n",
              "          google.colab.kernel.accessAllowed ? 'block' : 'none';\n",
              "\n",
              "        async function convertToInteractive(key) {\n",
              "          const element = document.querySelector('#df-4d9a9184-61a7-4c56-afaf-077bd2664068');\n",
              "          const dataTable =\n",
              "            await google.colab.kernel.invokeFunction('convertToInteractive',\n",
              "                                                     [key], {});\n",
              "          if (!dataTable) return;\n",
              "\n",
              "          const docLinkHtml = 'Like what you see? Visit the ' +\n",
              "            '<a target=\"_blank\" href=https://colab.research.google.com/notebooks/data_table.ipynb>data table notebook</a>'\n",
              "            + ' to learn more about interactive tables.';\n",
              "          element.innerHTML = '';\n",
              "          dataTable['output_type'] = 'display_data';\n",
              "          await google.colab.output.renderOutput(dataTable, element);\n",
              "          const docLink = document.createElement('div');\n",
              "          docLink.innerHTML = docLinkHtml;\n",
              "          element.appendChild(docLink);\n",
              "        }\n",
              "      </script>\n",
              "    </div>\n",
              "  </div>\n",
              "  "
            ]
          },
          "metadata": {},
          "execution_count": 17
        }
      ]
    },
    {
      "cell_type": "markdown",
      "source": [
        "### Imputation"
      ],
      "metadata": {
        "id": "TUHLPL0RtKNF"
      }
    },
    {
      "cell_type": "code",
      "source": [
        "income.isnull().sum()"
      ],
      "metadata": {
        "id": "ylwugCMNP_mb",
        "colab": {
          "base_uri": "https://localhost:8080/"
        },
        "outputId": "55ca7575-9a03-42d9-dcf4-69b30b425845"
      },
      "execution_count": null,
      "outputs": [
        {
          "output_type": "execute_result",
          "data": {
            "text/plain": [
              "age                   0\n",
              "workclass          2498\n",
              "fnlwgt                0\n",
              "education             0\n",
              "educational-num       0\n",
              "marital-status        0\n",
              "occupation         2506\n",
              "relationship          0\n",
              "race                  0\n",
              "gender                0\n",
              "capital-gain          0\n",
              "capital-loss          0\n",
              "hours-per-week        0\n",
              "native-country      763\n",
              "income_>50K           0\n",
              "dtype: int64"
            ]
          },
          "metadata": {},
          "execution_count": 18
        }
      ]
    },
    {
      "cell_type": "code",
      "source": [
        "income['workclass'].value_counts()"
      ],
      "metadata": {
        "id": "K-r_QPbHYg17",
        "colab": {
          "base_uri": "https://localhost:8080/"
        },
        "outputId": "7e82dc55-c999-4d0b-d655-1d2fbd89530c"
      },
      "execution_count": null,
      "outputs": [
        {
          "output_type": "execute_result",
          "data": {
            "text/plain": [
              "Private             30587\n",
              "Self-emp-not-inc     3464\n",
              "Local-gov            2822\n",
              "State-gov            1756\n",
              "Self-emp-inc         1518\n",
              "Federal-gov          1284\n",
              "Without-pay            20\n",
              "Never-worked            8\n",
              "Name: workclass, dtype: int64"
            ]
          },
          "metadata": {},
          "execution_count": 19
        }
      ]
    },
    {
      "cell_type": "code",
      "source": [
        "income['workclass'] = income['workclass'].fillna(income.groupby('education')['workclass']\n",
        "                                                             .transform(lambda x: x.mode()[0]))"
      ],
      "metadata": {
        "id": "0kLlh7OocALI"
      },
      "execution_count": null,
      "outputs": []
    },
    {
      "cell_type": "code",
      "source": [
        "income['occupation'].value_counts()"
      ],
      "metadata": {
        "id": "E3Rq64CvcKJ9",
        "colab": {
          "base_uri": "https://localhost:8080/"
        },
        "outputId": "08038d7c-c9d2-4c17-e0cb-126ed8141fb6"
      },
      "execution_count": null,
      "outputs": [
        {
          "output_type": "execute_result",
          "data": {
            "text/plain": [
              "Craft-repair         5519\n",
              "Prof-specialty       5518\n",
              "Exec-managerial      5506\n",
              "Adm-clerical         5004\n",
              "Sales                4965\n",
              "Other-service        4448\n",
              "Machine-op-inspct    2711\n",
              "Transport-moving     2121\n",
              "Handlers-cleaners    1878\n",
              "Farming-fishing      1348\n",
              "Tech-support         1321\n",
              "Protective-serv       874\n",
              "Priv-house-serv       225\n",
              "Armed-Forces           13\n",
              "Name: occupation, dtype: int64"
            ]
          },
          "metadata": {},
          "execution_count": 21
        }
      ]
    },
    {
      "cell_type": "code",
      "source": [
        "income['occupation'] = income['occupation'].fillna(income.groupby('workclass')['occupation']\n",
        "                                                               .transform(lambda x: x.mode()))"
      ],
      "metadata": {
        "id": "1EVJXOvyf8-e"
      },
      "execution_count": null,
      "outputs": []
    },
    {
      "cell_type": "code",
      "source": [
        "income['native-country'] = income['native-country'].fillna(income.groupby('race')['native-country']\n",
        "                                                             .transform(lambda x: x.mode()[0]))"
      ],
      "metadata": {
        "id": "8kULMe1kgTbr"
      },
      "execution_count": null,
      "outputs": []
    },
    {
      "cell_type": "markdown",
      "source": [
        "### Outliers"
      ],
      "metadata": {
        "id": "KsbtXnHetP5r"
      }
    },
    {
      "cell_type": "code",
      "source": [
        "income.describe()"
      ],
      "metadata": {
        "id": "Rj8nuksY4tWq",
        "colab": {
          "base_uri": "https://localhost:8080/"
        },
        "outputId": "0e03ab99-a607-4f53-b566-5096e80008ee"
      },
      "execution_count": null,
      "outputs": [
        {
          "output_type": "execute_result",
          "data": {
            "text/plain": [
              "                age        fnlwgt  educational-num  capital-gain  \\\n",
              "count  43957.000000  4.395700e+04     43957.000000  43957.000000   \n",
              "mean      38.617149  1.896730e+05        10.074118   1093.559797   \n",
              "std       13.734401  1.058215e+05         2.575092   7570.536063   \n",
              "min       17.000000  1.349200e+04         1.000000      0.000000   \n",
              "25%       28.000000  1.174960e+05         9.000000      0.000000   \n",
              "50%       37.000000  1.781000e+05        10.000000      0.000000   \n",
              "75%       48.000000  2.376710e+05        12.000000      0.000000   \n",
              "max       90.000000  1.490400e+06        16.000000  99999.000000   \n",
              "\n",
              "       capital-loss  hours-per-week   income_>50K  \n",
              "count  43957.000000    43957.000000  43957.000000  \n",
              "mean      88.246491       40.407694      0.239279  \n",
              "std      404.588410       12.400303      0.426648  \n",
              "min        0.000000        1.000000      0.000000  \n",
              "25%        0.000000       40.000000      0.000000  \n",
              "50%        0.000000       40.000000      0.000000  \n",
              "75%        0.000000       45.000000      0.000000  \n",
              "max     4356.000000       99.000000      1.000000  "
            ],
            "text/html": [
              "\n",
              "  <div id=\"df-a7cb8d03-3c10-442a-a962-1deefe740083\">\n",
              "    <div class=\"colab-df-container\">\n",
              "      <div>\n",
              "<style scoped>\n",
              "    .dataframe tbody tr th:only-of-type {\n",
              "        vertical-align: middle;\n",
              "    }\n",
              "\n",
              "    .dataframe tbody tr th {\n",
              "        vertical-align: top;\n",
              "    }\n",
              "\n",
              "    .dataframe thead th {\n",
              "        text-align: right;\n",
              "    }\n",
              "</style>\n",
              "<table border=\"1\" class=\"dataframe\">\n",
              "  <thead>\n",
              "    <tr style=\"text-align: right;\">\n",
              "      <th></th>\n",
              "      <th>age</th>\n",
              "      <th>fnlwgt</th>\n",
              "      <th>educational-num</th>\n",
              "      <th>capital-gain</th>\n",
              "      <th>capital-loss</th>\n",
              "      <th>hours-per-week</th>\n",
              "      <th>income_&gt;50K</th>\n",
              "    </tr>\n",
              "  </thead>\n",
              "  <tbody>\n",
              "    <tr>\n",
              "      <th>count</th>\n",
              "      <td>43957.000000</td>\n",
              "      <td>4.395700e+04</td>\n",
              "      <td>43957.000000</td>\n",
              "      <td>43957.000000</td>\n",
              "      <td>43957.000000</td>\n",
              "      <td>43957.000000</td>\n",
              "      <td>43957.000000</td>\n",
              "    </tr>\n",
              "    <tr>\n",
              "      <th>mean</th>\n",
              "      <td>38.617149</td>\n",
              "      <td>1.896730e+05</td>\n",
              "      <td>10.074118</td>\n",
              "      <td>1093.559797</td>\n",
              "      <td>88.246491</td>\n",
              "      <td>40.407694</td>\n",
              "      <td>0.239279</td>\n",
              "    </tr>\n",
              "    <tr>\n",
              "      <th>std</th>\n",
              "      <td>13.734401</td>\n",
              "      <td>1.058215e+05</td>\n",
              "      <td>2.575092</td>\n",
              "      <td>7570.536063</td>\n",
              "      <td>404.588410</td>\n",
              "      <td>12.400303</td>\n",
              "      <td>0.426648</td>\n",
              "    </tr>\n",
              "    <tr>\n",
              "      <th>min</th>\n",
              "      <td>17.000000</td>\n",
              "      <td>1.349200e+04</td>\n",
              "      <td>1.000000</td>\n",
              "      <td>0.000000</td>\n",
              "      <td>0.000000</td>\n",
              "      <td>1.000000</td>\n",
              "      <td>0.000000</td>\n",
              "    </tr>\n",
              "    <tr>\n",
              "      <th>25%</th>\n",
              "      <td>28.000000</td>\n",
              "      <td>1.174960e+05</td>\n",
              "      <td>9.000000</td>\n",
              "      <td>0.000000</td>\n",
              "      <td>0.000000</td>\n",
              "      <td>40.000000</td>\n",
              "      <td>0.000000</td>\n",
              "    </tr>\n",
              "    <tr>\n",
              "      <th>50%</th>\n",
              "      <td>37.000000</td>\n",
              "      <td>1.781000e+05</td>\n",
              "      <td>10.000000</td>\n",
              "      <td>0.000000</td>\n",
              "      <td>0.000000</td>\n",
              "      <td>40.000000</td>\n",
              "      <td>0.000000</td>\n",
              "    </tr>\n",
              "    <tr>\n",
              "      <th>75%</th>\n",
              "      <td>48.000000</td>\n",
              "      <td>2.376710e+05</td>\n",
              "      <td>12.000000</td>\n",
              "      <td>0.000000</td>\n",
              "      <td>0.000000</td>\n",
              "      <td>45.000000</td>\n",
              "      <td>0.000000</td>\n",
              "    </tr>\n",
              "    <tr>\n",
              "      <th>max</th>\n",
              "      <td>90.000000</td>\n",
              "      <td>1.490400e+06</td>\n",
              "      <td>16.000000</td>\n",
              "      <td>99999.000000</td>\n",
              "      <td>4356.000000</td>\n",
              "      <td>99.000000</td>\n",
              "      <td>1.000000</td>\n",
              "    </tr>\n",
              "  </tbody>\n",
              "</table>\n",
              "</div>\n",
              "      <button class=\"colab-df-convert\" onclick=\"convertToInteractive('df-a7cb8d03-3c10-442a-a962-1deefe740083')\"\n",
              "              title=\"Convert this dataframe to an interactive table.\"\n",
              "              style=\"display:none;\">\n",
              "        \n",
              "  <svg xmlns=\"http://www.w3.org/2000/svg\" height=\"24px\"viewBox=\"0 0 24 24\"\n",
              "       width=\"24px\">\n",
              "    <path d=\"M0 0h24v24H0V0z\" fill=\"none\"/>\n",
              "    <path d=\"M18.56 5.44l.94 2.06.94-2.06 2.06-.94-2.06-.94-.94-2.06-.94 2.06-2.06.94zm-11 1L8.5 8.5l.94-2.06 2.06-.94-2.06-.94L8.5 2.5l-.94 2.06-2.06.94zm10 10l.94 2.06.94-2.06 2.06-.94-2.06-.94-.94-2.06-.94 2.06-2.06.94z\"/><path d=\"M17.41 7.96l-1.37-1.37c-.4-.4-.92-.59-1.43-.59-.52 0-1.04.2-1.43.59L10.3 9.45l-7.72 7.72c-.78.78-.78 2.05 0 2.83L4 21.41c.39.39.9.59 1.41.59.51 0 1.02-.2 1.41-.59l7.78-7.78 2.81-2.81c.8-.78.8-2.07 0-2.86zM5.41 20L4 18.59l7.72-7.72 1.47 1.35L5.41 20z\"/>\n",
              "  </svg>\n",
              "      </button>\n",
              "      \n",
              "  <style>\n",
              "    .colab-df-container {\n",
              "      display:flex;\n",
              "      flex-wrap:wrap;\n",
              "      gap: 12px;\n",
              "    }\n",
              "\n",
              "    .colab-df-convert {\n",
              "      background-color: #E8F0FE;\n",
              "      border: none;\n",
              "      border-radius: 50%;\n",
              "      cursor: pointer;\n",
              "      display: none;\n",
              "      fill: #1967D2;\n",
              "      height: 32px;\n",
              "      padding: 0 0 0 0;\n",
              "      width: 32px;\n",
              "    }\n",
              "\n",
              "    .colab-df-convert:hover {\n",
              "      background-color: #E2EBFA;\n",
              "      box-shadow: 0px 1px 2px rgba(60, 64, 67, 0.3), 0px 1px 3px 1px rgba(60, 64, 67, 0.15);\n",
              "      fill: #174EA6;\n",
              "    }\n",
              "\n",
              "    [theme=dark] .colab-df-convert {\n",
              "      background-color: #3B4455;\n",
              "      fill: #D2E3FC;\n",
              "    }\n",
              "\n",
              "    [theme=dark] .colab-df-convert:hover {\n",
              "      background-color: #434B5C;\n",
              "      box-shadow: 0px 1px 3px 1px rgba(0, 0, 0, 0.15);\n",
              "      filter: drop-shadow(0px 1px 2px rgba(0, 0, 0, 0.3));\n",
              "      fill: #FFFFFF;\n",
              "    }\n",
              "  </style>\n",
              "\n",
              "      <script>\n",
              "        const buttonEl =\n",
              "          document.querySelector('#df-a7cb8d03-3c10-442a-a962-1deefe740083 button.colab-df-convert');\n",
              "        buttonEl.style.display =\n",
              "          google.colab.kernel.accessAllowed ? 'block' : 'none';\n",
              "\n",
              "        async function convertToInteractive(key) {\n",
              "          const element = document.querySelector('#df-a7cb8d03-3c10-442a-a962-1deefe740083');\n",
              "          const dataTable =\n",
              "            await google.colab.kernel.invokeFunction('convertToInteractive',\n",
              "                                                     [key], {});\n",
              "          if (!dataTable) return;\n",
              "\n",
              "          const docLinkHtml = 'Like what you see? Visit the ' +\n",
              "            '<a target=\"_blank\" href=https://colab.research.google.com/notebooks/data_table.ipynb>data table notebook</a>'\n",
              "            + ' to learn more about interactive tables.';\n",
              "          element.innerHTML = '';\n",
              "          dataTable['output_type'] = 'display_data';\n",
              "          await google.colab.output.renderOutput(dataTable, element);\n",
              "          const docLink = document.createElement('div');\n",
              "          docLink.innerHTML = docLinkHtml;\n",
              "          element.appendChild(docLink);\n",
              "        }\n",
              "      </script>\n",
              "    </div>\n",
              "  </div>\n",
              "  "
            ]
          },
          "metadata": {},
          "execution_count": 24
        }
      ]
    },
    {
      "cell_type": "code",
      "source": [
        "income['capital-gain'].value_counts()"
      ],
      "metadata": {
        "id": "HqusHD9TkYbt",
        "colab": {
          "base_uri": "https://localhost:8080/"
        },
        "outputId": "9c57be82-9fb1-4110-e180-36579669fc49"
      },
      "execution_count": null,
      "outputs": [
        {
          "output_type": "execute_result",
          "data": {
            "text/plain": [
              "0        40330\n",
              "15024      448\n",
              "7688       370\n",
              "7298       328\n",
              "99999      228\n",
              "         ...  \n",
              "6612         1\n",
              "1639         1\n",
              "7262         1\n",
              "1111         1\n",
              "1731         1\n",
              "Name: capital-gain, Length: 122, dtype: int64"
            ]
          },
          "metadata": {},
          "execution_count": 25
        }
      ]
    },
    {
      "cell_type": "code",
      "source": [
        "plt.boxplot(income['capital-gain'])\n",
        "plt.show()"
      ],
      "metadata": {
        "id": "qKL1yJxkhYwb",
        "colab": {
          "base_uri": "https://localhost:8080/"
        },
        "outputId": "1e33f96c-5ed6-4191-ba0f-63886938f448"
      },
      "execution_count": null,
      "outputs": [
        {
          "output_type": "display_data",
          "data": {
            "text/plain": [
              "<Figure size 432x288 with 1 Axes>"
            ],
            "image/png": "[encoded data removed]"
          },
          "metadata": {
            "needs_background": "light"
          }
        }
      ]
    },
    {
      "cell_type": "code",
      "source": [
        "intervals = [0, 1, 1100, 100000]\n",
        "labels = ['no capital gain', 'average', 'high']\n",
        "income['capital-gain'] = pd.cut(x=income['capital-gain'],\n",
        "                             bins=intervals,\n",
        "                             labels=labels,\n",
        "                             include_lowest=True)"
      ],
      "metadata": {
        "id": "QWfzZidBcqu7"
      },
      "execution_count": null,
      "outputs": []
    },
    {
      "cell_type": "code",
      "source": [
        "income['capital-loss'].value_counts()"
      ],
      "metadata": {
        "id": "zGFshnwGkx17",
        "colab": {
          "base_uri": "https://localhost:8080/"
        },
        "outputId": "ae2a658e-d7fd-4fb9-fdd6-87561b154dff"
      },
      "execution_count": null,
      "outputs": [
        {
          "output_type": "execute_result",
          "data": {
            "text/plain": [
              "0       41884\n",
              "1902      276\n",
              "1977      225\n",
              "1887      201\n",
              "2415       65\n",
              "        ...  \n",
              "2467        1\n",
              "1539        1\n",
              "1421        1\n",
              "2201        1\n",
              "155         1\n",
              "Name: capital-loss, Length: 97, dtype: int64"
            ]
          },
          "metadata": {},
          "execution_count": 28
        }
      ]
    },
    {
      "cell_type": "code",
      "source": [
        "plt.boxplot(income['capital-loss'])\n",
        "plt.show()"
      ],
      "metadata": {
        "id": "BwuJ6v12hB3x",
        "colab": {
          "base_uri": "https://localhost:8080/"
        },
        "outputId": "c696900d-3eb2-41b7-bb76-d51f174f3adb"
      },
      "execution_count": null,
      "outputs": [
        {
          "output_type": "display_data",
          "data": {
            "text/plain": [
              "<Figure size 432x288 with 1 Axes>"
            ],
            "image/png": "[encoded data removed]"
          },
          "metadata": {
            "needs_background": "light"
          }
        }
      ]
    },
    {
      "cell_type": "code",
      "source": [
        "intervals = [0, 1, 100, 5000]\n",
        "labels = ['no capital loss', 'average', 'high']\n",
        "income['capital-loss'] = pd.cut(x=income['capital-loss'],\n",
        "                             bins=intervals,\n",
        "                             labels=labels,\n",
        "                             include_lowest=True)"
      ],
      "metadata": {
        "id": "Wg9GvLr-dU5v"
      },
      "execution_count": null,
      "outputs": []
    },
    {
      "cell_type": "markdown",
      "source": [
        "### Encoding"
      ],
      "metadata": {
        "id": "gBmOk2RttUox"
      }
    },
    {
      "cell_type": "code",
      "source": [
        "income['marital-status'].value_counts()"
      ],
      "metadata": {
        "id": "b7_v77H2l0WF",
        "colab": {
          "base_uri": "https://localhost:8080/"
        },
        "outputId": "ff36af9e-0d22-48f9-9d26-1f8a8aa85a64"
      },
      "execution_count": null,
      "outputs": [
        {
          "output_type": "execute_result",
          "data": {
            "text/plain": [
              "Married-civ-spouse       20147\n",
              "Never-married            14513\n",
              "Divorced                  5971\n",
              "Widowed                   1364\n",
              "Separated                 1361\n",
              "Married-spouse-absent      570\n",
              "Married-AF-spouse           31\n",
              "Name: marital-status, dtype: int64"
            ]
          },
          "metadata": {},
          "execution_count": 31
        }
      ]
    },
    {
      "cell_type": "code",
      "source": [
        "income['married'] = np.where(income['marital-status'].isin(['Never-married', 'Divorced', 'Widowed', 'Separated']), 0, 1)"
      ],
      "metadata": {
        "id": "-CGLOb_smBDt"
      },
      "execution_count": null,
      "outputs": []
    },
    {
      "cell_type": "code",
      "source": [
        "income['gender'] = np.where(income['gender'] == 'Female', 0, 1)"
      ],
      "metadata": {
        "id": "tvByKCjFt-Tu"
      },
      "execution_count": null,
      "outputs": []
    },
    {
      "cell_type": "code",
      "source": [
        "categorical_cols = ['occupation', 'workclass', 'relationship', 'race', 'native-country']"
      ],
      "metadata": {
        "id": "VCt09pGuuh0P"
      },
      "execution_count": null,
      "outputs": []
    },
    {
      "cell_type": "code",
      "source": [
        "def calculate_top_categories(df, column):\n",
        "    return [\n",
        "        x for x in df[column].value_counts().sort_values(\n",
        "            ascending=False).head(5).index\n",
        "    ]\n",
        "\n",
        "def one_hot_encode(df, column, top_x_labels):\n",
        "    for label in top_x_labels:\n",
        "        df[column + '_' + label] = np.where(\n",
        "            df[column] == label, 1, 0) "
      ],
      "metadata": {
        "id": "WzQ-U0pgrkuy"
      },
      "execution_count": null,
      "outputs": []
    },
    {
      "cell_type": "code",
      "source": [
        "for column in categorical_cols:\n",
        "  top_x = calculate_top_categories(income, column)\n",
        "  one_hot_encode(income, column, top_x)"
      ],
      "metadata": {
        "id": "QVeK6S-dtlYe"
      },
      "execution_count": null,
      "outputs": []
    },
    {
      "cell_type": "code",
      "source": [
        "income.drop(['occupation', 'workclass', 'relationship', 'race', 'native-country','marital-status', 'education'], axis = 1, inplace = True)"
      ],
      "metadata": {
        "id": "nKpJrHpMiiqn"
      },
      "execution_count": null,
      "outputs": []
    },
    {
      "cell_type": "code",
      "source": [
        "intervals = [0, 20, 40, 60, 90]\n",
        "labels = ['youth', 'young adult', 'adult', 'senior']\n",
        "income['age'] = pd.cut(x=income['age'],\n",
        "                             bins=intervals,\n",
        "                             labels=labels,\n",
        "                             include_lowest=True)"
      ],
      "metadata": {
        "id": "XHpUOSwNvxmk"
      },
      "execution_count": null,
      "outputs": []
    },
    {
      "cell_type": "code",
      "source": [
        "label_encoding = {'age': {'youth': 1, 'young adult': 2, 'adult': 3, 'senior': 4}, \n",
        "                      'capital-gain': {'no capital gain': 0, 'average': 1, 'high': 2},\n",
        "                      'capital-loss': {'no capital loss': 0, 'average': 1, 'high': 2}}\n",
        "income = income.replace(label_encoding)"
      ],
      "metadata": {
        "id": "GJiZmuWTw9HK"
      },
      "execution_count": null,
      "outputs": []
    },
    {
      "cell_type": "markdown",
      "source": [
        "### Scaling"
      ],
      "metadata": {
        "id": "HwSijOp9tD98"
      }
    },
    {
      "cell_type": "code",
      "source": [
        "income.describe()"
      ],
      "metadata": {
        "id": "mD7NbJRLBqro",
        "colab": {
          "base_uri": "https://localhost:8080/"
        },
        "outputId": "ef8da7bf-7232-4aa7-9cc5-b713bcc89fc5"
      },
      "execution_count": null,
      "outputs": [
        {
          "output_type": "execute_result",
          "data": {
            "text/plain": [
              "                age        fnlwgt  educational-num        gender  \\\n",
              "count  43957.000000  4.395700e+04     43957.000000  43957.000000   \n",
              "mean       2.411539  1.896730e+05        10.074118      0.668835   \n",
              "std        0.735420  1.058215e+05         2.575092      0.470637   \n",
              "min        1.000000  1.349200e+04         1.000000      0.000000   \n",
              "25%        2.000000  1.174960e+05         9.000000      0.000000   \n",
              "50%        2.000000  1.781000e+05        10.000000      1.000000   \n",
              "75%        3.000000  2.376710e+05        12.000000      1.000000   \n",
              "max        4.000000  1.490400e+06        16.000000      1.000000   \n",
              "\n",
              "       capital-gain  capital-loss  hours-per-week   income_>50K       married  \\\n",
              "count  43957.000000  43957.000000    43957.000000  43957.000000  43957.000000   \n",
              "mean       0.162431      0.094319       40.407694      0.239279      0.472007   \n",
              "std        0.543960      0.423966       12.400303      0.426648      0.499221   \n",
              "min        0.000000      0.000000        1.000000      0.000000      0.000000   \n",
              "25%        0.000000      0.000000       40.000000      0.000000      0.000000   \n",
              "50%        0.000000      0.000000       40.000000      0.000000      0.000000   \n",
              "75%        0.000000      0.000000       45.000000      0.000000      1.000000   \n",
              "max        2.000000      2.000000       99.000000      1.000000      1.000000   \n",
              "\n",
              "       occupation_Craft-repair  ...    race_White    race_Black  \\\n",
              "count             43957.000000  ...  43957.000000  43957.000000   \n",
              "mean                  0.125555  ...      0.854744      0.095957   \n",
              "std                   0.331350  ...      0.352362      0.294536   \n",
              "min                   0.000000  ...      0.000000      0.000000   \n",
              "25%                   0.000000  ...      1.000000      0.000000   \n",
              "50%                   0.000000  ...      1.000000      0.000000   \n",
              "75%                   0.000000  ...      1.000000      0.000000   \n",
              "max                   1.000000  ...      1.000000      1.000000   \n",
              "\n",
              "       race_Asian-Pac-Islander  race_Amer-Indian-Eskimo    race_Other  \\\n",
              "count             43957.000000             43957.000000  43957.000000   \n",
              "mean                  0.031235                 0.009578      0.008486   \n",
              "std                   0.173954                 0.097396      0.091727   \n",
              "min                   0.000000                 0.000000      0.000000   \n",
              "25%                   0.000000                 0.000000      0.000000   \n",
              "50%                   0.000000                 0.000000      0.000000   \n",
              "75%                   0.000000                 0.000000      0.000000   \n",
              "max                   1.000000                 1.000000      1.000000   \n",
              "\n",
              "       native-country_United-States  native-country_Mexico  \\\n",
              "count                  43957.000000           43957.000000   \n",
              "mean                       0.914348               0.020020   \n",
              "std                        0.279853               0.140069   \n",
              "min                        0.000000               0.000000   \n",
              "25%                        1.000000               0.000000   \n",
              "50%                        1.000000               0.000000   \n",
              "75%                        1.000000               0.000000   \n",
              "max                        1.000000               1.000000   \n",
              "\n",
              "       native-country_Philippines  native-country_Germany  \\\n",
              "count                43957.000000            43957.000000   \n",
              "mean                     0.006211                0.004277   \n",
              "std                      0.078563                0.065259   \n",
              "min                      0.000000                0.000000   \n",
              "25%                      0.000000                0.000000   \n",
              "50%                      0.000000                0.000000   \n",
              "75%                      0.000000                0.000000   \n",
              "max                      1.000000                1.000000   \n",
              "\n",
              "       native-country_Puerto-Rico  \n",
              "count                43957.000000  \n",
              "mean                     0.003799  \n",
              "std                      0.061521  \n",
              "min                      0.000000  \n",
              "25%                      0.000000  \n",
              "50%                      0.000000  \n",
              "75%                      0.000000  \n",
              "max                      1.000000  \n",
              "\n",
              "[8 rows x 34 columns]"
            ],
            "text/html": [
              "\n",
              "  <div id=\"df-6b8d827f-2481-47ca-a83f-2b96c5822ece\">\n",
              "    <div class=\"colab-df-container\">\n",
              "      <div>\n",
              "<style scoped>\n",
              "    .dataframe tbody tr th:only-of-type {\n",
              "        vertical-align: middle;\n",
              "    }\n",
              "\n",
              "    .dataframe tbody tr th {\n",
              "        vertical-align: top;\n",
              "    }\n",
              "\n",
              "    .dataframe thead th {\n",
              "        text-align: right;\n",
              "    }\n",
              "</style>\n",
              "<table border=\"1\" class=\"dataframe\">\n",
              "  <thead>\n",
              "    <tr style=\"text-align: right;\">\n",
              "      <th></th>\n",
              "      <th>age</th>\n",
              "      <th>fnlwgt</th>\n",
              "      <th>educational-num</th>\n",
              "      <th>gender</th>\n",
              "      <th>capital-gain</th>\n",
              "      <th>capital-loss</th>\n",
              "      <th>hours-per-week</th>\n",
              "      <th>income_&gt;50K</th>\n",
              "      <th>married</th>\n",
              "      <th>occupation_Craft-repair</th>\n",
              "      <th>...</th>\n",
              "      <th>race_White</th>\n",
              "      <th>race_Black</th>\n",
              "      <th>race_Asian-Pac-Islander</th>\n",
              "      <th>race_Amer-Indian-Eskimo</th>\n",
              "      <th>race_Other</th>\n",
              "      <th>native-country_United-States</th>\n",
              "      <th>native-country_Mexico</th>\n",
              "      <th>native-country_Philippines</th>\n",
              "      <th>native-country_Germany</th>\n",
              "      <th>native-country_Puerto-Rico</th>\n",
              "    </tr>\n",
              "  </thead>\n",
              "  <tbody>\n",
              "    <tr>\n",
              "      <th>count</th>\n",
              "      <td>43957.000000</td>\n",
              "      <td>4.395700e+04</td>\n",
              "      <td>43957.000000</td>\n",
              "      <td>43957.000000</td>\n",
              "      <td>43957.000000</td>\n",
              "      <td>43957.000000</td>\n",
              "      <td>43957.000000</td>\n",
              "      <td>43957.000000</td>\n",
              "      <td>43957.000000</td>\n",
              "      <td>43957.000000</td>\n",
              "      <td>...</td>\n",
              "      <td>43957.000000</td>\n",
              "      <td>43957.000000</td>\n",
              "      <td>43957.000000</td>\n",
              "      <td>43957.000000</td>\n",
              "      <td>43957.000000</td>\n",
              "      <td>43957.000000</td>\n",
              "      <td>43957.000000</td>\n",
              "      <td>43957.000000</td>\n",
              "      <td>43957.000000</td>\n",
              "      <td>43957.000000</td>\n",
              "    </tr>\n",
              "    <tr>\n",
              "      <th>mean</th>\n",
              "      <td>2.411539</td>\n",
              "      <td>1.896730e+05</td>\n",
              "      <td>10.074118</td>\n",
              "      <td>0.668835</td>\n",
              "      <td>0.162431</td>\n",
              "      <td>0.094319</td>\n",
              "      <td>40.407694</td>\n",
              "      <td>0.239279</td>\n",
              "      <td>0.472007</td>\n",
              "      <td>0.125555</td>\n",
              "      <td>...</td>\n",
              "      <td>0.854744</td>\n",
              "      <td>0.095957</td>\n",
              "      <td>0.031235</td>\n",
              "      <td>0.009578</td>\n",
              "      <td>0.008486</td>\n",
              "      <td>0.914348</td>\n",
              "      <td>0.020020</td>\n",
              "      <td>0.006211</td>\n",
              "      <td>0.004277</td>\n",
              "      <td>0.003799</td>\n",
              "    </tr>\n",
              "    <tr>\n",
              "      <th>std</th>\n",
              "      <td>0.735420</td>\n",
              "      <td>1.058215e+05</td>\n",
              "      <td>2.575092</td>\n",
              "      <td>0.470637</td>\n",
              "      <td>0.543960</td>\n",
              "      <td>0.423966</td>\n",
              "      <td>12.400303</td>\n",
              "      <td>0.426648</td>\n",
              "      <td>0.499221</td>\n",
              "      <td>0.331350</td>\n",
              "      <td>...</td>\n",
              "      <td>0.352362</td>\n",
              "      <td>0.294536</td>\n",
              "      <td>0.173954</td>\n",
              "      <td>0.097396</td>\n",
              "      <td>0.091727</td>\n",
              "      <td>0.279853</td>\n",
              "      <td>0.140069</td>\n",
              "      <td>0.078563</td>\n",
              "      <td>0.065259</td>\n",
              "      <td>0.061521</td>\n",
              "    </tr>\n",
              "    <tr>\n",
              "      <th>min</th>\n",
              "      <td>1.000000</td>\n",
              "      <td>1.349200e+04</td>\n",
              "      <td>1.000000</td>\n",
              "      <td>0.000000</td>\n",
              "      <td>0.000000</td>\n",
              "      <td>0.000000</td>\n",
              "      <td>1.000000</td>\n",
              "      <td>0.000000</td>\n",
              "      <td>0.000000</td>\n",
              "      <td>0.000000</td>\n",
              "      <td>...</td>\n",
              "      <td>0.000000</td>\n",
              "      <td>0.000000</td>\n",
              "      <td>0.000000</td>\n",
              "      <td>0.000000</td>\n",
              "      <td>0.000000</td>\n",
              "      <td>0.000000</td>\n",
              "      <td>0.000000</td>\n",
              "      <td>0.000000</td>\n",
              "      <td>0.000000</td>\n",
              "      <td>0.000000</td>\n",
              "    </tr>\n",
              "    <tr>\n",
              "      <th>25%</th>\n",
              "      <td>2.000000</td>\n",
              "      <td>1.174960e+05</td>\n",
              "      <td>9.000000</td>\n",
              "      <td>0.000000</td>\n",
              "      <td>0.000000</td>\n",
              "      <td>0.000000</td>\n",
              "      <td>40.000000</td>\n",
              "      <td>0.000000</td>\n",
              "      <td>0.000000</td>\n",
              "      <td>0.000000</td>\n",
              "      <td>...</td>\n",
              "      <td>1.000000</td>\n",
              "      <td>0.000000</td>\n",
              "      <td>0.000000</td>\n",
              "      <td>0.000000</td>\n",
              "      <td>0.000000</td>\n",
              "      <td>1.000000</td>\n",
              "      <td>0.000000</td>\n",
              "      <td>0.000000</td>\n",
              "      <td>0.000000</td>\n",
              "      <td>0.000000</td>\n",
              "    </tr>\n",
              "    <tr>\n",
              "      <th>50%</th>\n",
              "      <td>2.000000</td>\n",
              "      <td>1.781000e+05</td>\n",
              "      <td>10.000000</td>\n",
              "      <td>1.000000</td>\n",
              "      <td>0.000000</td>\n",
              "      <td>0.000000</td>\n",
              "      <td>40.000000</td>\n",
              "      <td>0.000000</td>\n",
              "      <td>0.000000</td>\n",
              "      <td>0.000000</td>\n",
              "      <td>...</td>\n",
              "      <td>1.000000</td>\n",
              "      <td>0.000000</td>\n",
              "      <td>0.000000</td>\n",
              "      <td>0.000000</td>\n",
              "      <td>0.000000</td>\n",
              "      <td>1.000000</td>\n",
              "      <td>0.000000</td>\n",
              "      <td>0.000000</td>\n",
              "      <td>0.000000</td>\n",
              "      <td>0.000000</td>\n",
              "    </tr>\n",
              "    <tr>\n",
              "      <th>75%</th>\n",
              "      <td>3.000000</td>\n",
              "      <td>2.376710e+05</td>\n",
              "      <td>12.000000</td>\n",
              "      <td>1.000000</td>\n",
              "      <td>0.000000</td>\n",
              "      <td>0.000000</td>\n",
              "      <td>45.000000</td>\n",
              "      <td>0.000000</td>\n",
              "      <td>1.000000</td>\n",
              "      <td>0.000000</td>\n",
              "      <td>...</td>\n",
              "      <td>1.000000</td>\n",
              "      <td>0.000000</td>\n",
              "      <td>0.000000</td>\n",
              "      <td>0.000000</td>\n",
              "      <td>0.000000</td>\n",
              "      <td>1.000000</td>\n",
              "      <td>0.000000</td>\n",
              "      <td>0.000000</td>\n",
              "      <td>0.000000</td>\n",
              "      <td>0.000000</td>\n",
              "    </tr>\n",
              "    <tr>\n",
              "      <th>max</th>\n",
              "      <td>4.000000</td>\n",
              "      <td>1.490400e+06</td>\n",
              "      <td>16.000000</td>\n",
              "      <td>1.000000</td>\n",
              "      <td>2.000000</td>\n",
              "      <td>2.000000</td>\n",
              "      <td>99.000000</td>\n",
              "      <td>1.000000</td>\n",
              "      <td>1.000000</td>\n",
              "      <td>1.000000</td>\n",
              "      <td>...</td>\n",
              "      <td>1.000000</td>\n",
              "      <td>1.000000</td>\n",
              "      <td>1.000000</td>\n",
              "      <td>1.000000</td>\n",
              "      <td>1.000000</td>\n",
              "      <td>1.000000</td>\n",
              "      <td>1.000000</td>\n",
              "      <td>1.000000</td>\n",
              "      <td>1.000000</td>\n",
              "      <td>1.000000</td>\n",
              "    </tr>\n",
              "  </tbody>\n",
              "</table>\n",
              "<p>8 rows × 34 columns</p>\n",
              "</div>\n",
              "      <button class=\"colab-df-convert\" onclick=\"convertToInteractive('df-6b8d827f-2481-47ca-a83f-2b96c5822ece')\"\n",
              "              title=\"Convert this dataframe to an interactive table.\"\n",
              "              style=\"display:none;\">\n",
              "        \n",
              "  <svg xmlns=\"http://www.w3.org/2000/svg\" height=\"24px\"viewBox=\"0 0 24 24\"\n",
              "       width=\"24px\">\n",
              "    <path d=\"M0 0h24v24H0V0z\" fill=\"none\"/>\n",
              "    <path d=\"M18.56 5.44l.94 2.06.94-2.06 2.06-.94-2.06-.94-.94-2.06-.94 2.06-2.06.94zm-11 1L8.5 8.5l.94-2.06 2.06-.94-2.06-.94L8.5 2.5l-.94 2.06-2.06.94zm10 10l.94 2.06.94-2.06 2.06-.94-2.06-.94-.94-2.06-.94 2.06-2.06.94z\"/><path d=\"M17.41 7.96l-1.37-1.37c-.4-.4-.92-.59-1.43-.59-.52 0-1.04.2-1.43.59L10.3 9.45l-7.72 7.72c-.78.78-.78 2.05 0 2.83L4 21.41c.39.39.9.59 1.41.59.51 0 1.02-.2 1.41-.59l7.78-7.78 2.81-2.81c.8-.78.8-2.07 0-2.86zM5.41 20L4 18.59l7.72-7.72 1.47 1.35L5.41 20z\"/>\n",
              "  </svg>\n",
              "      </button>\n",
              "      \n",
              "  <style>\n",
              "    .colab-df-container {\n",
              "      display:flex;\n",
              "      flex-wrap:wrap;\n",
              "      gap: 12px;\n",
              "    }\n",
              "\n",
              "    .colab-df-convert {\n",
              "      background-color: #E8F0FE;\n",
              "      border: none;\n",
              "      border-radius: 50%;\n",
              "      cursor: pointer;\n",
              "      display: none;\n",
              "      fill: #1967D2;\n",
              "      height: 32px;\n",
              "      padding: 0 0 0 0;\n",
              "      width: 32px;\n",
              "    }\n",
              "\n",
              "    .colab-df-convert:hover {\n",
              "      background-color: #E2EBFA;\n",
              "      box-shadow: 0px 1px 2px rgba(60, 64, 67, 0.3), 0px 1px 3px 1px rgba(60, 64, 67, 0.15);\n",
              "      fill: #174EA6;\n",
              "    }\n",
              "\n",
              "    [theme=dark] .colab-df-convert {\n",
              "      background-color: #3B4455;\n",
              "      fill: #D2E3FC;\n",
              "    }\n",
              "\n",
              "    [theme=dark] .colab-df-convert:hover {\n",
              "      background-color: #434B5C;\n",
              "      box-shadow: 0px 1px 3px 1px rgba(0, 0, 0, 0.15);\n",
              "      filter: drop-shadow(0px 1px 2px rgba(0, 0, 0, 0.3));\n",
              "      fill: #FFFFFF;\n",
              "    }\n",
              "  </style>\n",
              "\n",
              "      <script>\n",
              "        const buttonEl =\n",
              "          document.querySelector('#df-6b8d827f-2481-47ca-a83f-2b96c5822ece button.colab-df-convert');\n",
              "        buttonEl.style.display =\n",
              "          google.colab.kernel.accessAllowed ? 'block' : 'none';\n",
              "\n",
              "        async function convertToInteractive(key) {\n",
              "          const element = document.querySelector('#df-6b8d827f-2481-47ca-a83f-2b96c5822ece');\n",
              "          const dataTable =\n",
              "            await google.colab.kernel.invokeFunction('convertToInteractive',\n",
              "                                                     [key], {});\n",
              "          if (!dataTable) return;\n",
              "\n",
              "          const docLinkHtml = 'Like what you see? Visit the ' +\n",
              "            '<a target=\"_blank\" href=https://colab.research.google.com/notebooks/data_table.ipynb>data table notebook</a>'\n",
              "            + ' to learn more about interactive tables.';\n",
              "          element.innerHTML = '';\n",
              "          dataTable['output_type'] = 'display_data';\n",
              "          await google.colab.output.renderOutput(dataTable, element);\n",
              "          const docLink = document.createElement('div');\n",
              "          docLink.innerHTML = docLinkHtml;\n",
              "          element.appendChild(docLink);\n",
              "        }\n",
              "      </script>\n",
              "    </div>\n",
              "  </div>\n",
              "  "
            ]
          },
          "metadata": {},
          "execution_count": 40
        }
      ]
    },
    {
      "cell_type": "code",
      "source": [
        "income.columns"
      ],
      "metadata": {
        "id": "_TjfPeKAr64A",
        "colab": {
          "base_uri": "https://localhost:8080/"
        },
        "outputId": "a40b1a41-f049-40f6-fe33-b1bbf203f81e"
      },
      "execution_count": null,
      "outputs": [
        {
          "output_type": "execute_result",
          "data": {
            "text/plain": [
              "Index(['age', 'fnlwgt', 'educational-num', 'gender', 'capital-gain',\n",
              "       'capital-loss', 'hours-per-week', 'income_>50K', 'married',\n",
              "       'occupation_Craft-repair', 'occupation_Prof-specialty',\n",
              "       'occupation_Exec-managerial', 'occupation_Adm-clerical',\n",
              "       'occupation_Sales', 'workclass_Private', 'workclass_Self-emp-not-inc',\n",
              "       'workclass_Local-gov', 'workclass_State-gov', 'workclass_Self-emp-inc',\n",
              "       'relationship_Husband', 'relationship_Not-in-family',\n",
              "       'relationship_Own-child', 'relationship_Unmarried', 'relationship_Wife',\n",
              "       'race_White', 'race_Black', 'race_Asian-Pac-Islander',\n",
              "       'race_Amer-Indian-Eskimo', 'race_Other', 'native-country_United-States',\n",
              "       'native-country_Mexico', 'native-country_Philippines',\n",
              "       'native-country_Germany', 'native-country_Puerto-Rico'],\n",
              "      dtype='object')"
            ]
          },
          "metadata": {},
          "execution_count": 41
        }
      ]
    },
    {
      "cell_type": "code",
      "source": [
        "income.drop('race_Other', axis = 1, inplace = True)"
      ],
      "metadata": {
        "id": "7ShNhE9Ds747"
      },
      "execution_count": null,
      "outputs": []
    },
    {
      "cell_type": "code",
      "source": [
        "income_train_features, income_test_features, income_train_labels, income_test_labels = train_test_split(\n",
        "                income.drop('income_>50K', axis = 1), income['income_>50K'], test_size=0.3, random_state=101)"
      ],
      "metadata": {
        "id": "I3oHAntBekKP"
      },
      "execution_count": null,
      "outputs": []
    },
    {
      "cell_type": "code",
      "source": [
        "income_train_features['hours-per-week'] = MinMaxScaler().fit_transform(income_train_features[['hours-per-week']])\n",
        "income_test_features['hours-per-week'] = MinMaxScaler().fit_transform(income_test_features[['hours-per-week']])\n",
        "\n",
        "income_train_features['fnlwgt'] = StandardScaler().fit_transform(income_train_features[['fnlwgt']])\n",
        "income_test_features['fnlwgt'] = StandardScaler().fit_transform(income_test_features[['fnlwgt']])"
      ],
      "metadata": {
        "id": "rhAMricn480y"
      },
      "execution_count": null,
      "outputs": []
    },
    {
      "cell_type": "code",
      "source": [
        "income_train_features.head()"
      ],
      "metadata": {
        "id": "pw0UqEfbiS3z",
        "colab": {
          "base_uri": "https://localhost:8080/"
        },
        "outputId": "ca631db9-b009-44f0-b09d-3fb77945ff17"
      },
      "execution_count": null,
      "outputs": [
        {
          "output_type": "execute_result",
          "data": {
            "text/plain": [
              "       age    fnlwgt  educational-num  gender  capital-gain  capital-loss  \\\n",
              "28733    3 -0.439895                9       1             0             0   \n",
              "12134    2  0.345126                9       1             0             0   \n",
              "7351     2 -0.436662                9       1             0             0   \n",
              "15866    2 -1.332493               13       0             0             0   \n",
              "15782    3 -1.219647                9       1             0             2   \n",
              "\n",
              "       hours-per-week  married  occupation_Craft-repair  \\\n",
              "28733        0.397959        1                        0   \n",
              "12134        0.602041        1                        1   \n",
              "7351         0.295918        0                        0   \n",
              "15866        0.346939        0                        0   \n",
              "15782        0.418367        1                        0   \n",
              "\n",
              "       occupation_Prof-specialty  ...  relationship_Wife  race_White  \\\n",
              "28733                          0  ...                  0           1   \n",
              "12134                          0  ...                  0           1   \n",
              "7351                           0  ...                  0           1   \n",
              "15866                          0  ...                  0           1   \n",
              "15782                          0  ...                  0           1   \n",
              "\n",
              "       race_Black  race_Asian-Pac-Islander  race_Amer-Indian-Eskimo  \\\n",
              "28733           0                        0                        0   \n",
              "12134           0                        0                        0   \n",
              "7351            0                        0                        0   \n",
              "15866           0                        0                        0   \n",
              "15782           0                        0                        0   \n",
              "\n",
              "       native-country_United-States  native-country_Mexico  \\\n",
              "28733                             1                      0   \n",
              "12134                             1                      0   \n",
              "7351                              1                      0   \n",
              "15866                             1                      0   \n",
              "15782                             1                      0   \n",
              "\n",
              "       native-country_Philippines  native-country_Germany  \\\n",
              "28733                           0                       0   \n",
              "12134                           0                       0   \n",
              "7351                            0                       0   \n",
              "15866                           0                       0   \n",
              "15782                           0                       0   \n",
              "\n",
              "       native-country_Puerto-Rico  \n",
              "28733                           0  \n",
              "12134                           0  \n",
              "7351                            0  \n",
              "15866                           0  \n",
              "15782                           0  \n",
              "\n",
              "[5 rows x 32 columns]"
            ],
            "text/html": [
              "\n",
              "  <div id=\"df-9ceafb84-a33f-4bda-81c6-ab67778f2a79\">\n",
              "    <div class=\"colab-df-container\">\n",
              "      <div>\n",
              "<style scoped>\n",
              "    .dataframe tbody tr th:only-of-type {\n",
              "        vertical-align: middle;\n",
              "    }\n",
              "\n",
              "    .dataframe tbody tr th {\n",
              "        vertical-align: top;\n",
              "    }\n",
              "\n",
              "    .dataframe thead th {\n",
              "        text-align: right;\n",
              "    }\n",
              "</style>\n",
              "<table border=\"1\" class=\"dataframe\">\n",
              "  <thead>\n",
              "    <tr style=\"text-align: right;\">\n",
              "      <th></th>\n",
              "      <th>age</th>\n",
              "      <th>fnlwgt</th>\n",
              "      <th>educational-num</th>\n",
              "      <th>gender</th>\n",
              "      <th>capital-gain</th>\n",
              "      <th>capital-loss</th>\n",
              "      <th>hours-per-week</th>\n",
              "      <th>married</th>\n",
              "      <th>occupation_Craft-repair</th>\n",
              "      <th>occupation_Prof-specialty</th>\n",
              "      <th>...</th>\n",
              "      <th>relationship_Wife</th>\n",
              "      <th>race_White</th>\n",
              "      <th>race_Black</th>\n",
              "      <th>race_Asian-Pac-Islander</th>\n",
              "      <th>race_Amer-Indian-Eskimo</th>\n",
              "      <th>native-country_United-States</th>\n",
              "      <th>native-country_Mexico</th>\n",
              "      <th>native-country_Philippines</th>\n",
              "      <th>native-country_Germany</th>\n",
              "      <th>native-country_Puerto-Rico</th>\n",
              "    </tr>\n",
              "  </thead>\n",
              "  <tbody>\n",
              "    <tr>\n",
              "      <th>28733</th>\n",
              "      <td>3</td>\n",
              "      <td>-0.439895</td>\n",
              "      <td>9</td>\n",
              "      <td>1</td>\n",
              "      <td>0</td>\n",
              "      <td>0</td>\n",
              "      <td>0.397959</td>\n",
              "      <td>1</td>\n",
              "      <td>0</td>\n",
              "      <td>0</td>\n",
              "      <td>...</td>\n",
              "      <td>0</td>\n",
              "      <td>1</td>\n",
              "      <td>0</td>\n",
              "      <td>0</td>\n",
              "      <td>0</td>\n",
              "      <td>1</td>\n",
              "      <td>0</td>\n",
              "      <td>0</td>\n",
              "      <td>0</td>\n",
              "      <td>0</td>\n",
              "    </tr>\n",
              "    <tr>\n",
              "      <th>12134</th>\n",
              "      <td>2</td>\n",
              "      <td>0.345126</td>\n",
              "      <td>9</td>\n",
              "      <td>1</td>\n",
              "      <td>0</td>\n",
              "      <td>0</td>\n",
              "      <td>0.602041</td>\n",
              "      <td>1</td>\n",
              "      <td>1</td>\n",
              "      <td>0</td>\n",
              "      <td>...</td>\n",
              "      <td>0</td>\n",
              "      <td>1</td>\n",
              "      <td>0</td>\n",
              "      <td>0</td>\n",
              "      <td>0</td>\n",
              "      <td>1</td>\n",
              "      <td>0</td>\n",
              "      <td>0</td>\n",
              "      <td>0</td>\n",
              "      <td>0</td>\n",
              "    </tr>\n",
              "    <tr>\n",
              "      <th>7351</th>\n",
              "      <td>2</td>\n",
              "      <td>-0.436662</td>\n",
              "      <td>9</td>\n",
              "      <td>1</td>\n",
              "      <td>0</td>\n",
              "      <td>0</td>\n",
              "      <td>0.295918</td>\n",
              "      <td>0</td>\n",
              "      <td>0</td>\n",
              "      <td>0</td>\n",
              "      <td>...</td>\n",
              "      <td>0</td>\n",
              "      <td>1</td>\n",
              "      <td>0</td>\n",
              "      <td>0</td>\n",
              "      <td>0</td>\n",
              "      <td>1</td>\n",
              "      <td>0</td>\n",
              "      <td>0</td>\n",
              "      <td>0</td>\n",
              "      <td>0</td>\n",
              "    </tr>\n",
              "    <tr>\n",
              "      <th>15866</th>\n",
              "      <td>2</td>\n",
              "      <td>-1.332493</td>\n",
              "      <td>13</td>\n",
              "      <td>0</td>\n",
              "      <td>0</td>\n",
              "      <td>0</td>\n",
              "      <td>0.346939</td>\n",
              "      <td>0</td>\n",
              "      <td>0</td>\n",
              "      <td>0</td>\n",
              "      <td>...</td>\n",
              "      <td>0</td>\n",
              "      <td>1</td>\n",
              "      <td>0</td>\n",
              "      <td>0</td>\n",
              "      <td>0</td>\n",
              "      <td>1</td>\n",
              "      <td>0</td>\n",
              "      <td>0</td>\n",
              "      <td>0</td>\n",
              "      <td>0</td>\n",
              "    </tr>\n",
              "    <tr>\n",
              "      <th>15782</th>\n",
              "      <td>3</td>\n",
              "      <td>-1.219647</td>\n",
              "      <td>9</td>\n",
              "      <td>1</td>\n",
              "      <td>0</td>\n",
              "      <td>2</td>\n",
              "      <td>0.418367</td>\n",
              "      <td>1</td>\n",
              "      <td>0</td>\n",
              "      <td>0</td>\n",
              "      <td>...</td>\n",
              "      <td>0</td>\n",
              "      <td>1</td>\n",
              "      <td>0</td>\n",
              "      <td>0</td>\n",
              "      <td>0</td>\n",
              "      <td>1</td>\n",
              "      <td>0</td>\n",
              "      <td>0</td>\n",
              "      <td>0</td>\n",
              "      <td>0</td>\n",
              "    </tr>\n",
              "  </tbody>\n",
              "</table>\n",
              "<p>5 rows × 32 columns</p>\n",
              "</div>\n",
              "      <button class=\"colab-df-convert\" onclick=\"convertToInteractive('df-9ceafb84-a33f-4bda-81c6-ab67778f2a79')\"\n",
              "              title=\"Convert this dataframe to an interactive table.\"\n",
              "              style=\"display:none;\">\n",
              "        \n",
              "  <svg xmlns=\"http://www.w3.org/2000/svg\" height=\"24px\"viewBox=\"0 0 24 24\"\n",
              "       width=\"24px\">\n",
              "    <path d=\"M0 0h24v24H0V0z\" fill=\"none\"/>\n",
              "    <path d=\"M18.56 5.44l.94 2.06.94-2.06 2.06-.94-2.06-.94-.94-2.06-.94 2.06-2.06.94zm-11 1L8.5 8.5l.94-2.06 2.06-.94-2.06-.94L8.5 2.5l-.94 2.06-2.06.94zm10 10l.94 2.06.94-2.06 2.06-.94-2.06-.94-.94-2.06-.94 2.06-2.06.94z\"/><path d=\"M17.41 7.96l-1.37-1.37c-.4-.4-.92-.59-1.43-.59-.52 0-1.04.2-1.43.59L10.3 9.45l-7.72 7.72c-.78.78-.78 2.05 0 2.83L4 21.41c.39.39.9.59 1.41.59.51 0 1.02-.2 1.41-.59l7.78-7.78 2.81-2.81c.8-.78.8-2.07 0-2.86zM5.41 20L4 18.59l7.72-7.72 1.47 1.35L5.41 20z\"/>\n",
              "  </svg>\n",
              "      </button>\n",
              "      \n",
              "  <style>\n",
              "    .colab-df-container {\n",
              "      display:flex;\n",
              "      flex-wrap:wrap;\n",
              "      gap: 12px;\n",
              "    }\n",
              "\n",
              "    .colab-df-convert {\n",
              "      background-color: #E8F0FE;\n",
              "      border: none;\n",
              "      border-radius: 50%;\n",
              "      cursor: pointer;\n",
              "      display: none;\n",
              "      fill: #1967D2;\n",
              "      height: 32px;\n",
              "      padding: 0 0 0 0;\n",
              "      width: 32px;\n",
              "    }\n",
              "\n",
              "    .colab-df-convert:hover {\n",
              "      background-color: #E2EBFA;\n",
              "      box-shadow: 0px 1px 2px rgba(60, 64, 67, 0.3), 0px 1px 3px 1px rgba(60, 64, 67, 0.15);\n",
              "      fill: #174EA6;\n",
              "    }\n",
              "\n",
              "    [theme=dark] .colab-df-convert {\n",
              "      background-color: #3B4455;\n",
              "      fill: #D2E3FC;\n",
              "    }\n",
              "\n",
              "    [theme=dark] .colab-df-convert:hover {\n",
              "      background-color: #434B5C;\n",
              "      box-shadow: 0px 1px 3px 1px rgba(0, 0, 0, 0.15);\n",
              "      filter: drop-shadow(0px 1px 2px rgba(0, 0, 0, 0.3));\n",
              "      fill: #FFFFFF;\n",
              "    }\n",
              "  </style>\n",
              "\n",
              "      <script>\n",
              "        const buttonEl =\n",
              "          document.querySelector('#df-9ceafb84-a33f-4bda-81c6-ab67778f2a79 button.colab-df-convert');\n",
              "        buttonEl.style.display =\n",
              "          google.colab.kernel.accessAllowed ? 'block' : 'none';\n",
              "\n",
              "        async function convertToInteractive(key) {\n",
              "          const element = document.querySelector('#df-9ceafb84-a33f-4bda-81c6-ab67778f2a79');\n",
              "          const dataTable =\n",
              "            await google.colab.kernel.invokeFunction('convertToInteractive',\n",
              "                                                     [key], {});\n",
              "          if (!dataTable) return;\n",
              "\n",
              "          const docLinkHtml = 'Like what you see? Visit the ' +\n",
              "            '<a target=\"_blank\" href=https://colab.research.google.com/notebooks/data_table.ipynb>data table notebook</a>'\n",
              "            + ' to learn more about interactive tables.';\n",
              "          element.innerHTML = '';\n",
              "          dataTable['output_type'] = 'display_data';\n",
              "          await google.colab.output.renderOutput(dataTable, element);\n",
              "          const docLink = document.createElement('div');\n",
              "          docLink.innerHTML = docLinkHtml;\n",
              "          element.appendChild(docLink);\n",
              "        }\n",
              "      </script>\n",
              "    </div>\n",
              "  </div>\n",
              "  "
            ]
          },
          "metadata": {},
          "execution_count": 45
        }
      ]
    },
    {
      "cell_type": "code",
      "source": [
        "income_train_features.columns"
      ],
      "metadata": {
        "id": "w5SNhczLrOKz",
        "colab": {
          "base_uri": "https://localhost:8080/"
        },
        "outputId": "dba7a10e-e4be-4ad9-e5e6-2c08f7758ca9"
      },
      "execution_count": null,
      "outputs": [
        {
          "output_type": "execute_result",
          "data": {
            "text/plain": [
              "Index(['age', 'fnlwgt', 'educational-num', 'gender', 'capital-gain',\n",
              "       'capital-loss', 'hours-per-week', 'married', 'occupation_Craft-repair',\n",
              "       'occupation_Prof-specialty', 'occupation_Exec-managerial',\n",
              "       'occupation_Adm-clerical', 'occupation_Sales', 'workclass_Private',\n",
              "       'workclass_Self-emp-not-inc', 'workclass_Local-gov',\n",
              "       'workclass_State-gov', 'workclass_Self-emp-inc', 'relationship_Husband',\n",
              "       'relationship_Not-in-family', 'relationship_Own-child',\n",
              "       'relationship_Unmarried', 'relationship_Wife', 'race_White',\n",
              "       'race_Black', 'race_Asian-Pac-Islander', 'race_Amer-Indian-Eskimo',\n",
              "       'native-country_United-States', 'native-country_Mexico',\n",
              "       'native-country_Philippines', 'native-country_Germany',\n",
              "       'native-country_Puerto-Rico'],\n",
              "      dtype='object')"
            ]
          },
          "metadata": {},
          "execution_count": 46
        }
      ]
    },
    {
      "cell_type": "markdown",
      "source": [
        "## Gene Expression Dataset Transformation"
      ],
      "metadata": {
        "id": "7K0xQLgWeVPr"
      }
    },
    {
      "cell_type": "code",
      "source": [
        "gene_expression = pd.read_csv('/content/drive/MyDrive/gene_expression.csv')"
      ],
      "metadata": {
        "id": "RkPXbHU_WuOT"
      },
      "execution_count": null,
      "outputs": []
    },
    {
      "cell_type": "code",
      "source": [
        "gene_expression.head()"
      ],
      "metadata": {
        "id": "NNgbNSjddbKN"
      },
      "execution_count": null,
      "outputs": []
    },
    {
      "cell_type": "code",
      "source": [
        "gene_expression.isnull().sum()"
      ],
      "metadata": {
        "id": "gmZk6Ek2dvPu"
      },
      "execution_count": null,
      "outputs": []
    },
    {
      "cell_type": "code",
      "source": [
        "gene_expression_train_features, gene_expression_test_features, gene_expression_train_labels, gene_expression_test_labels = train_test_split(\n",
        "      gene_expression.drop('Cancer Present', axis = 1), gene_expression['Cancer Present'], test_size=0.3, random_state=101)"
      ],
      "metadata": {
        "id": "HhyeoKjKzL51"
      },
      "execution_count": null,
      "outputs": []
    },
    {
      "cell_type": "markdown",
      "source": [
        "# Dataset 1 Models"
      ],
      "metadata": {
        "id": "jcgkIJC_0qks"
      }
    },
    {
      "cell_type": "markdown",
      "source": [
        "## Logistic Regression"
      ],
      "metadata": {
        "id": "fm3rXNAh0zbs"
      }
    },
    {
      "cell_type": "code",
      "source": [
        "from sklearn.linear_model import LogisticRegression"
      ],
      "metadata": {
        "id": "4DpPQPI505oT"
      },
      "execution_count": null,
      "outputs": []
    },
    {
      "cell_type": "code",
      "source": [
        "from sklearn.metrics import accuracy_score, confusion_matrix, classification_report, plot_confusion_matrix"
      ],
      "metadata": {
        "id": "ImyI2SYO1GN4"
      },
      "execution_count": null,
      "outputs": []
    },
    {
      "cell_type": "code",
      "source": [
        "log_model = LogisticRegression()"
      ],
      "metadata": {
        "id": "31OVdrww08pb"
      },
      "execution_count": null,
      "outputs": []
    },
    {
      "cell_type": "code",
      "source": [
        "log_model.fit(heart_disease_train_features, heart_disease_train_labels)"
      ],
      "metadata": {
        "colab": {
          "base_uri": "https://localhost:8080/"
        },
        "id": "idem6jXE0-hW",
        "outputId": "6b4efe6e-a6db-47ad-ee48-6f8c3730de30"
      },
      "execution_count": null,
      "outputs": [
        {
          "output_type": "execute_result",
          "data": {
            "text/plain": [
              "LogisticRegression()"
            ]
          },
          "metadata": {},
          "execution_count": 117
        }
      ]
    },
    {
      "cell_type": "code",
      "source": [
        "heart_disease_predictions = log_model.predict(heart_disease_test_features)"
      ],
      "metadata": {
        "id": "lRDCvRxP1PhV"
      },
      "execution_count": null,
      "outputs": []
    },
    {
      "cell_type": "code",
      "source": [
        "pd.DataFrame(heart_disease_predictions).value_counts()"
      ],
      "metadata": {
        "colab": {
          "base_uri": "https://localhost:8080/"
        },
        "id": "eFLNGxn11mc9",
        "outputId": "e1809567-9a4a-4daf-a77a-0ae1f7a617be"
      },
      "execution_count": null,
      "outputs": [
        {
          "output_type": "execute_result",
          "data": {
            "text/plain": [
              "0.0    74402\n",
              "1.0     1702\n",
              "dtype: int64"
            ]
          },
          "metadata": {},
          "execution_count": 122
        }
      ]
    },
    {
      "cell_type": "code",
      "source": [
        "accuracy_score(heart_disease_test_labels, heart_disease_predictions)"
      ],
      "metadata": {
        "colab": {
          "base_uri": "https://localhost:8080/"
        },
        "id": "L35BGpFU1ZCs",
        "outputId": "d87a8bea-7a30-4c3c-a222-3759aa068be8"
      },
      "execution_count": null,
      "outputs": [
        {
          "output_type": "execute_result",
          "data": {
            "text/plain": [
              "0.9069956901082729"
            ]
          },
          "metadata": {},
          "execution_count": 125
        }
      ]
    },
    {
      "cell_type": "code",
      "source": [
        "confusion_matrix(heart_disease_test_labels, heart_disease_predictions)"
      ],
      "metadata": {
        "colab": {
          "base_uri": "https://localhost:8080/"
        },
        "id": "I9EjzFsV1fug",
        "outputId": "700e6bcd-5d40-429c-ab0f-4a90dc8b5c99"
      },
      "execution_count": null,
      "outputs": [
        {
          "output_type": "execute_result",
          "data": {
            "text/plain": [
              "array([[68116,   792],\n",
              "       [ 6286,   910]])"
            ]
          },
          "metadata": {},
          "execution_count": 126
        }
      ]
    },
    {
      "cell_type": "code",
      "source": [
        "print(classification_report(heart_disease_test_labels, heart_disease_predictions))"
      ],
      "metadata": {
        "colab": {
          "base_uri": "https://localhost:8080/"
        },
        "id": "QfA2u3_Z2HZ0",
        "outputId": "c1c3ebf6-ff49-47fc-f557-babba564174c"
      },
      "execution_count": null,
      "outputs": [
        {
          "output_type": "stream",
          "name": "stdout",
          "text": [
            "              precision    recall  f1-score   support\n",
            "\n",
            "         0.0       0.92      0.99      0.95     68908\n",
            "         1.0       0.53      0.13      0.20      7196\n",
            "\n",
            "    accuracy                           0.91     76104\n",
            "   macro avg       0.73      0.56      0.58     76104\n",
            "weighted avg       0.88      0.91      0.88     76104\n",
            "\n"
          ]
        }
      ]
    },
    {
      "cell_type": "code",
      "source": [
        "# for Logistic Regression : \n",
        "# The accuracy score is 0.9069956901082729\n",
        "# for the KNN : \n",
        "# the accuracy score of the best KNN model is 0.9033690738988752\n",
        "# for the SVM the accuracy score was a follows for the each kernel:\n",
        "# Linear Kernel : 0.9054451802796174\n",
        "# Radial basis kernel : 0.9071008094186902\n",
        "# Sigmoid kernel : 0.8333333333333334\n",
        "#----------------------------------\n",
        "# The best accuracy score is obtained by the SVM using the radial basis kernel \n",
        "# The svm has outperformed logistic regression has there are imbalanced classes \n",
        "# The svm and Knn performance difference is insignficant but it is likely to outperform knn when \n",
        "# there are clearly seperate classes"
      ],
      "metadata": {
        "id": "JSVEhu0N0gyI"
      },
      "execution_count": null,
      "outputs": []
    },
    {
      "cell_type": "markdown",
      "source": [
        "## KNNs"
      ],
      "metadata": {
        "id": "tUph4kHB2mON"
      }
    },
    {
      "cell_type": "code",
      "source": [
        "from sklearn.neighbors import KNeighborsClassifier"
      ],
      "metadata": {
        "id": "os7tsFUJ2rIN"
      },
      "execution_count": null,
      "outputs": []
    },
    {
      "cell_type": "code",
      "source": [
        "test_error_rates = []\n",
        "\n",
        "for k in range(1, 20):\n",
        "    knn_model = KNeighborsClassifier(n_neighbors=k)\n",
        "    knn_model.fit(heart_disease_train_features, heart_disease_train_labels) \n",
        "   \n",
        "    y_pred_test = knn_model.predict(heart_disease_test_features)\n",
        "    \n",
        "    test_error = 1 - accuracy_score(heart_disease_test_labels, y_pred_test)\n",
        "    test_error_rates.append(test_error)"
      ],
      "metadata": {
        "id": "NMRZYS224Aay"
      },
      "execution_count": null,
      "outputs": []
    },
    {
      "cell_type": "code",
      "source": [
        "plt.figure(figsize=(8,4),dpi=200)\n",
        "plt.plot(range(1, 20),test_error_rates,label='Test Error')\n",
        "plt.legend()\n",
        "plt.ylabel('Error Rate')\n",
        "plt.xlabel(\"K Value\")"
      ],
      "metadata": {
        "colab": {
          "base_uri": "https://localhost:8080/",
          "height": 615
        },
        "id": "4BV5Lr5s4Ys9",
        "outputId": "ffe1b869-4df1-45b3-88a4-a3e02911f3ea"
      },
      "execution_count": null,
      "outputs": [
        {
          "output_type": "execute_result",
          "data": {
            "text/plain": [
              "Text(0.5, 0, 'K Value')"
            ]
          },
          "metadata": {},
          "execution_count": 135
        },
        {
          "output_type": "display_data",
          "data": {
            "text/plain": [
              "<Figure size 1600x800 with 1 Axes>"
            ],
            "image/png": "[encoded data removed]"
          },
          "metadata": {
            "needs_background": "light"
          }
        }
      ]
    },
    {
      "cell_type": "markdown",
      "source": [
        "6 is a suitable number for K"
      ],
      "metadata": {
        "id": "rSeesj14NVNy"
      }
    },
    {
      "cell_type": "code",
      "source": [
        "knn_model = KNeighborsClassifier(n_neighbors=6)"
      ],
      "metadata": {
        "id": "to6XGIeJM_r_"
      },
      "execution_count": null,
      "outputs": []
    },
    {
      "cell_type": "code",
      "source": [
        "knn_model.fit(heart_disease_train_features, heart_disease_train_labels)\n",
        "y_pred_test = knn_model.predict(heart_disease_test_features)"
      ],
      "metadata": {
        "id": "8lm6TPIQNkjv"
      },
      "execution_count": null,
      "outputs": []
    },
    {
      "cell_type": "code",
      "source": [
        "accuracy_score(heart_disease_test_labels, y_pred_test)"
      ],
      "metadata": {
        "colab": {
          "base_uri": "https://localhost:8080/"
        },
        "id": "Q5P-xtZsN51k",
        "outputId": "8686e3d8-ec74-40a9-d469-b6d271b1c487"
      },
      "execution_count": null,
      "outputs": [
        {
          "output_type": "execute_result",
          "data": {
            "text/plain": [
              "0.9033690738988752"
            ]
          },
          "metadata": {},
          "execution_count": 138
        }
      ]
    },
    {
      "cell_type": "code",
      "source": [
        "confusion_matrix(heart_disease_test_labels, y_pred_test)"
      ],
      "metadata": {
        "colab": {
          "base_uri": "https://localhost:8080/"
        },
        "id": "F_BRDCc-OCuy",
        "outputId": "1e982508-83b1-4a32-bc11-bc3adf601957"
      },
      "execution_count": null,
      "outputs": [
        {
          "output_type": "execute_result",
          "data": {
            "text/plain": [
              "array([[68080,   828],\n",
              "       [ 6526,   670]])"
            ]
          },
          "metadata": {},
          "execution_count": 139
        }
      ]
    },
    {
      "cell_type": "code",
      "source": [
        "print(classification_report(heart_disease_test_labels, y_pred_test))"
      ],
      "metadata": {
        "colab": {
          "base_uri": "https://localhost:8080/"
        },
        "id": "0a1xZjUSOO5e",
        "outputId": "6ca197ef-16b1-4b12-c227-2f315b8c4769"
      },
      "execution_count": null,
      "outputs": [
        {
          "output_type": "stream",
          "name": "stdout",
          "text": [
            "              precision    recall  f1-score   support\n",
            "\n",
            "         0.0       0.91      0.99      0.95     68908\n",
            "         1.0       0.45      0.09      0.15      7196\n",
            "\n",
            "    accuracy                           0.90     76104\n",
            "   macro avg       0.68      0.54      0.55     76104\n",
            "weighted avg       0.87      0.90      0.87     76104\n",
            "\n"
          ]
        }
      ]
    },
    {
      "cell_type": "markdown",
      "source": [
        "## SVM"
      ],
      "metadata": {
        "id": "MKhgAVgw5dHP"
      }
    },
    {
      "cell_type": "code",
      "source": [
        "from sklearn.svm import SVC"
      ],
      "metadata": {
        "id": "YBM94txx5hpG"
      },
      "execution_count": null,
      "outputs": []
    },
    {
      "cell_type": "markdown",
      "source": [
        "### Linear Kernel"
      ],
      "metadata": {
        "id": "nYa742if6VVt"
      }
    },
    {
      "cell_type": "code",
      "source": [
        "svm_linear = SVC(kernel='linear')\n",
        "svm_linear.fit(heart_disease_train_features, heart_disease_train_labels)"
      ],
      "metadata": {
        "colab": {
          "base_uri": "https://localhost:8080/"
        },
        "id": "gsM22HHOBick",
        "outputId": "6821a5ea-a1ce-4959-f657-fc3ca97b7dc4"
      },
      "execution_count": null,
      "outputs": [
        {
          "output_type": "execute_result",
          "data": {
            "text/plain": [
              "SVC(kernel='linear')"
            ]
          },
          "metadata": {},
          "execution_count": 17
        }
      ]
    },
    {
      "cell_type": "code",
      "source": [
        "heart_disease_predictions = svm_linear.predict(heart_disease_test_features)"
      ],
      "metadata": {
        "id": "vTgW4rsjPxQD"
      },
      "execution_count": null,
      "outputs": []
    },
    {
      "cell_type": "code",
      "source": [
        "accuracy_score(heart_disease_test_labels, heart_disease_predictions)"
      ],
      "metadata": {
        "colab": {
          "base_uri": "https://localhost:8080/"
        },
        "id": "f_TAoNqgP9kq",
        "outputId": "aa5a91a4-a168-4a8c-ed09-2984fd321a30"
      },
      "execution_count": null,
      "outputs": [
        {
          "output_type": "execute_result",
          "data": {
            "text/plain": [
              "0.9054451802796174"
            ]
          },
          "metadata": {},
          "execution_count": 19
        }
      ]
    },
    {
      "cell_type": "code",
      "source": [
        "confusion_matrix(heart_disease_test_labels, heart_disease_predictions)"
      ],
      "metadata": {
        "colab": {
          "base_uri": "https://localhost:8080/"
        },
        "id": "nYRa-_YeP_dq",
        "outputId": "4baeccc5-a5c0-4e13-b767-ad7cd51c8a01"
      },
      "execution_count": null,
      "outputs": [
        {
          "output_type": "execute_result",
          "data": {
            "text/plain": [
              "array([[68908,     0],\n",
              "       [ 7196,     0]])"
            ]
          },
          "metadata": {},
          "execution_count": 20
        }
      ]
    },
    {
      "cell_type": "code",
      "source": [
        "print(classification_report(heart_disease_test_labels, heart_disease_predictions))"
      ],
      "metadata": {
        "colab": {
          "base_uri": "https://localhost:8080/"
        },
        "id": "Fu5yX6d2QBeZ",
        "outputId": "36d14e83-2373-4c81-f440-a1b51d9322b0"
      },
      "execution_count": null,
      "outputs": [
        {
          "output_type": "stream",
          "name": "stdout",
          "text": [
            "              precision    recall  f1-score   support\n",
            "\n",
            "         0.0       0.91      1.00      0.95     68908\n",
            "         1.0       0.00      0.00      0.00      7196\n",
            "\n",
            "    accuracy                           0.91     76104\n",
            "   macro avg       0.45      0.50      0.48     76104\n",
            "weighted avg       0.82      0.91      0.86     76104\n",
            "\n"
          ]
        },
        {
          "output_type": "stream",
          "name": "stderr",
          "text": [
            "/usr/local/lib/python3.8/dist-packages/sklearn/metrics/_classification.py:1318: UndefinedMetricWarning: Precision and F-score are ill-defined and being set to 0.0 in labels with no predicted samples. Use `zero_division` parameter to control this behavior.\n",
            "  _warn_prf(average, modifier, msg_start, len(result))\n",
            "/usr/local/lib/python3.8/dist-packages/sklearn/metrics/_classification.py:1318: UndefinedMetricWarning: Precision and F-score are ill-defined and being set to 0.0 in labels with no predicted samples. Use `zero_division` parameter to control this behavior.\n",
            "  _warn_prf(average, modifier, msg_start, len(result))\n",
            "/usr/local/lib/python3.8/dist-packages/sklearn/metrics/_classification.py:1318: UndefinedMetricWarning: Precision and F-score are ill-defined and being set to 0.0 in labels with no predicted samples. Use `zero_division` parameter to control this behavior.\n",
            "  _warn_prf(average, modifier, msg_start, len(result))\n"
          ]
        }
      ]
    },
    {
      "cell_type": "markdown",
      "source": [
        "### Radial Basis Function Kernel"
      ],
      "metadata": {
        "id": "80GbetuY6YyA"
      }
    },
    {
      "cell_type": "code",
      "source": [
        "svm_rbf = SVC(kernel='rbf')\n",
        "svm_rbf.fit(heart_disease_train_features, heart_disease_train_labels)"
      ],
      "metadata": {
        "id": "E_3DY-zu6m5d",
        "colab": {
          "base_uri": "https://localhost:8080/"
        },
        "outputId": "d14a2815-96a0-4ebc-b3de-2a045b74a399"
      },
      "execution_count": null,
      "outputs": [
        {
          "output_type": "execute_result",
          "data": {
            "text/plain": [
              "SVC()"
            ]
          },
          "metadata": {},
          "execution_count": 22
        }
      ]
    },
    {
      "cell_type": "code",
      "source": [
        "heart_disease_predictions = svm_rbf.predict(heart_disease_test_features)"
      ],
      "metadata": {
        "id": "lHDjdvRAQGNb"
      },
      "execution_count": null,
      "outputs": []
    },
    {
      "cell_type": "code",
      "source": [
        "accuracy_score(heart_disease_test_labels, heart_disease_predictions)"
      ],
      "metadata": {
        "id": "EbWbcxemQKmj",
        "colab": {
          "base_uri": "https://localhost:8080/"
        },
        "outputId": "8b40141a-cef1-45b1-9adb-81c9789b4e20"
      },
      "execution_count": null,
      "outputs": [
        {
          "output_type": "execute_result",
          "data": {
            "text/plain": [
              "0.9071008094186902"
            ]
          },
          "metadata": {},
          "execution_count": 24
        }
      ]
    },
    {
      "cell_type": "code",
      "source": [
        "confusion_matrix(heart_disease_test_labels, heart_disease_predictions)"
      ],
      "metadata": {
        "id": "r3VRdmAtQNan",
        "colab": {
          "base_uri": "https://localhost:8080/"
        },
        "outputId": "2cb5b618-143f-4e53-b646-d0bc0ecb35c8"
      },
      "execution_count": null,
      "outputs": [
        {
          "output_type": "execute_result",
          "data": {
            "text/plain": [
              "array([[68666,   242],\n",
              "       [ 6828,   368]])"
            ]
          },
          "metadata": {},
          "execution_count": 25
        }
      ]
    },
    {
      "cell_type": "code",
      "source": [
        "print(classification_report(heart_disease_test_labels, heart_disease_predictions))"
      ],
      "metadata": {
        "id": "DdPm7ietQPFm",
        "colab": {
          "base_uri": "https://localhost:8080/"
        },
        "outputId": "db346e53-b199-4848-f9d5-6e4e0bc0cc68"
      },
      "execution_count": null,
      "outputs": [
        {
          "output_type": "stream",
          "name": "stdout",
          "text": [
            "              precision    recall  f1-score   support\n",
            "\n",
            "         0.0       0.91      1.00      0.95     68908\n",
            "         1.0       0.60      0.05      0.09      7196\n",
            "\n",
            "    accuracy                           0.91     76104\n",
            "   macro avg       0.76      0.52      0.52     76104\n",
            "weighted avg       0.88      0.91      0.87     76104\n",
            "\n"
          ]
        }
      ]
    },
    {
      "cell_type": "markdown",
      "source": [
        "### Sigmoid Kernel"
      ],
      "metadata": {
        "id": "RVVDoagQ6zYU"
      }
    },
    {
      "cell_type": "code",
      "source": [
        "svm_sigmoid = SVC(kernel='sigmoid')\n",
        "svm_sigmoid.fit(heart_disease_train_features, heart_disease_train_labels)"
      ],
      "metadata": {
        "id": "OuZBmOgT7Agf",
        "colab": {
          "base_uri": "https://localhost:8080/"
        },
        "outputId": "caa278d4-02d7-44cf-ff8e-55ee41416446"
      },
      "execution_count": null,
      "outputs": [
        {
          "output_type": "execute_result",
          "data": {
            "text/plain": [
              "SVC(kernel='sigmoid')"
            ]
          },
          "metadata": {},
          "execution_count": 27
        }
      ]
    },
    {
      "cell_type": "code",
      "source": [
        "heart_disease_predictions = svm_sigmoid.predict(heart_disease_test_features)"
      ],
      "metadata": {
        "id": "nESDj4jhQQ4h"
      },
      "execution_count": null,
      "outputs": []
    },
    {
      "cell_type": "code",
      "source": [
        "accuracy_score(heart_disease_test_labels, heart_disease_predictions)"
      ],
      "metadata": {
        "id": "BWjzqSz5QSS-",
        "colab": {
          "base_uri": "https://localhost:8080/"
        },
        "outputId": "92dda9fb-3841-4c2b-bbec-202fd7ce4e38"
      },
      "execution_count": null,
      "outputs": [
        {
          "output_type": "execute_result",
          "data": {
            "text/plain": [
              "0.8333333333333334"
            ]
          },
          "metadata": {},
          "execution_count": 29
        }
      ]
    },
    {
      "cell_type": "code",
      "source": [
        "confusion_matrix(heart_disease_test_labels, heart_disease_predictions)"
      ],
      "metadata": {
        "id": "FNU7yZb9QV_L",
        "colab": {
          "base_uri": "https://localhost:8080/"
        },
        "outputId": "9e4771b4-4361-44ba-ffd5-958a8e464014"
      },
      "execution_count": null,
      "outputs": [
        {
          "output_type": "execute_result",
          "data": {
            "text/plain": [
              "array([[62645,  6263],\n",
              "       [ 6421,   775]])"
            ]
          },
          "metadata": {},
          "execution_count": 30
        }
      ]
    },
    {
      "cell_type": "code",
      "source": [
        "print(classification_report(heart_disease_test_labels, heart_disease_predictions))"
      ],
      "metadata": {
        "id": "sSaRm6ZPQXZc",
        "colab": {
          "base_uri": "https://localhost:8080/"
        },
        "outputId": "c0e2d6d0-e2b3-447e-95e6-d7c3b557e04a"
      },
      "execution_count": null,
      "outputs": [
        {
          "output_type": "stream",
          "name": "stdout",
          "text": [
            "              precision    recall  f1-score   support\n",
            "\n",
            "         0.0       0.91      0.91      0.91     68908\n",
            "         1.0       0.11      0.11      0.11      7196\n",
            "\n",
            "    accuracy                           0.83     76104\n",
            "   macro avg       0.51      0.51      0.51     76104\n",
            "weighted avg       0.83      0.83      0.83     76104\n",
            "\n"
          ]
        }
      ]
    },
    {
      "cell_type": "markdown",
      "source": [
        "# Dataset 2 Models"
      ],
      "metadata": {
        "id": "BYUvDyWpfiHf"
      }
    },
    {
      "cell_type": "markdown",
      "source": [
        "## Logistic Regression"
      ],
      "metadata": {
        "id": "wegIZt3KfiHg"
      }
    },
    {
      "cell_type": "code",
      "source": [
        "log_model = LogisticRegression(max_iter=400)"
      ],
      "metadata": {
        "id": "ej8L0Y_WfiHg"
      },
      "execution_count": null,
      "outputs": []
    },
    {
      "cell_type": "code",
      "source": [
        "log_model.fit(income_train_features, income_train_labels)"
      ],
      "metadata": {
        "colab": {
          "base_uri": "https://localhost:8080/"
        },
        "outputId": "5d3d6bd7-e826-47b5-d3db-ad7593cd754a",
        "id": "U2PYChdxfiHg"
      },
      "execution_count": null,
      "outputs": [
        {
          "output_type": "execute_result",
          "data": {
            "text/plain": [
              "LogisticRegression(max_iter=400)"
            ]
          },
          "metadata": {},
          "execution_count": 50
        }
      ]
    },
    {
      "cell_type": "code",
      "source": [
        "income_predictions = log_model.predict(income_test_features)"
      ],
      "metadata": {
        "id": "85dcrPQmfiHg"
      },
      "execution_count": null,
      "outputs": []
    },
    {
      "cell_type": "code",
      "source": [
        "accuracy_score(income_test_labels, income_predictions)"
      ],
      "metadata": {
        "colab": {
          "base_uri": "https://localhost:8080/"
        },
        "outputId": "a9ad451b-a304-4f4d-95f6-5a230f7cb357",
        "id": "HbuvVNMAfiHh"
      },
      "execution_count": null,
      "outputs": [
        {
          "output_type": "execute_result",
          "data": {
            "text/plain": [
              "0.8356839551107067"
            ]
          },
          "metadata": {},
          "execution_count": 52
        }
      ]
    },
    {
      "cell_type": "code",
      "source": [
        "confusion_matrix(income_test_labels, income_predictions)"
      ],
      "metadata": {
        "colab": {
          "base_uri": "https://localhost:8080/"
        },
        "outputId": "3e5ae1e8-cfe3-4bd0-99d6-6affaf73e426",
        "id": "jxojReFBfiHh"
      },
      "execution_count": null,
      "outputs": [
        {
          "output_type": "execute_result",
          "data": {
            "text/plain": [
              "array([[9248,  750],\n",
              "       [1417, 1773]])"
            ]
          },
          "metadata": {},
          "execution_count": 53
        }
      ]
    },
    {
      "cell_type": "code",
      "source": [
        "print(classification_report(income_test_labels, income_predictions))"
      ],
      "metadata": {
        "colab": {
          "base_uri": "https://localhost:8080/"
        },
        "outputId": "5aaad98b-311d-4c01-95ea-6a761a4d2e35",
        "id": "cIGsd4B1fiHh"
      },
      "execution_count": null,
      "outputs": [
        {
          "output_type": "stream",
          "name": "stdout",
          "text": [
            "              precision    recall  f1-score   support\n",
            "\n",
            "           0       0.87      0.92      0.90      9998\n",
            "           1       0.70      0.56      0.62      3190\n",
            "\n",
            "    accuracy                           0.84     13188\n",
            "   macro avg       0.78      0.74      0.76     13188\n",
            "weighted avg       0.83      0.84      0.83     13188\n",
            "\n"
          ]
        }
      ]
    },
    {
      "cell_type": "markdown",
      "source": [
        "## KNNs"
      ],
      "metadata": {
        "id": "KS297rWnfiHh"
      }
    },
    {
      "cell_type": "code",
      "source": [
        "from sklearn.neighbors import KNeighborsClassifier"
      ],
      "metadata": {
        "id": "B6KBBwSVfiHh"
      },
      "execution_count": null,
      "outputs": []
    },
    {
      "cell_type": "code",
      "source": [
        "test_error_rates = []\n",
        "\n",
        "for k in range(1, 20):\n",
        "    knn_model = KNeighborsClassifier(n_neighbors=k)\n",
        "    knn_model.fit(income_train_features, income_train_labels) \n",
        "   \n",
        "    income_predictions = knn_model.predict(income_test_features)\n",
        "    \n",
        "    test_error = 1 - accuracy_score(income_test_labels, income_predictions)\n",
        "    test_error_rates.append(test_error)"
      ],
      "metadata": {
        "id": "SuEQYi2zfiHj"
      },
      "execution_count": null,
      "outputs": []
    },
    {
      "cell_type": "code",
      "source": [
        "plt.figure(figsize=(8,4),dpi=200)\n",
        "plt.plot(range(1, 20),test_error_rates,label='Test Error')\n",
        "plt.legend()\n",
        "plt.ylabel('Error Rate')\n",
        "plt.xlabel(\"K Value\")"
      ],
      "metadata": {
        "colab": {
          "base_uri": "https://localhost:8080/",
          "height": 615
        },
        "outputId": "3e5b09fd-4878-4293-e2e7-2719713cf4ec",
        "id": "dOjDQvbafiHj"
      },
      "execution_count": null,
      "outputs": [
        {
          "output_type": "execute_result",
          "data": {
            "text/plain": [
              "Text(0.5, 0, 'K Value')"
            ]
          },
          "metadata": {},
          "execution_count": 57
        },
        {
          "output_type": "display_data",
          "data": {
            "text/plain": [
              "<Figure size 1600x800 with 1 Axes>"
            ],
            "image/png": "[encoded data removed]"
          },
          "metadata": {
            "needs_background": "light"
          }
        }
      ]
    },
    {
      "cell_type": "markdown",
      "source": [
        "6 is a suitable number for K"
      ],
      "metadata": {
        "id": "lXBrG6uffiHj"
      }
    },
    {
      "cell_type": "code",
      "source": [
        "knn_model = KNeighborsClassifier(n_neighbors=6)"
      ],
      "metadata": {
        "id": "GBykb2YQfiHk"
      },
      "execution_count": null,
      "outputs": []
    },
    {
      "cell_type": "code",
      "source": [
        "knn_model.fit(income_train_features, income_train_labels)\n",
        "income_predictions = knn_model.predict(income_test_features)"
      ],
      "metadata": {
        "id": "YvjbIZ0hfiHk"
      },
      "execution_count": null,
      "outputs": []
    },
    {
      "cell_type": "code",
      "source": [
        "accuracy_score(income_test_labels, income_predictions)"
      ],
      "metadata": {
        "colab": {
          "base_uri": "https://localhost:8080/"
        },
        "outputId": "4c4f692a-23d1-4b21-8685-a70c5819d057",
        "id": "ejt4hf-LfiHk"
      },
      "execution_count": null,
      "outputs": [
        {
          "output_type": "execute_result",
          "data": {
            "text/plain": [
              "0.8280254777070064"
            ]
          },
          "metadata": {},
          "execution_count": 60
        }
      ]
    },
    {
      "cell_type": "code",
      "source": [
        "confusion_matrix(income_test_labels, income_predictions)"
      ],
      "metadata": {
        "colab": {
          "base_uri": "https://localhost:8080/"
        },
        "outputId": "d517cef9-7a47-48dc-b484-b61f3486f306",
        "id": "Qw8RRYtefiHk"
      },
      "execution_count": null,
      "outputs": [
        {
          "output_type": "execute_result",
          "data": {
            "text/plain": [
              "array([[9331,  667],\n",
              "       [1601, 1589]])"
            ]
          },
          "metadata": {},
          "execution_count": 61
        }
      ]
    },
    {
      "cell_type": "code",
      "source": [
        "print(classification_report(income_test_labels, income_predictions))"
      ],
      "metadata": {
        "colab": {
          "base_uri": "https://localhost:8080/"
        },
        "outputId": "938a25f7-e8b4-4f2e-e299-88524da698d0",
        "id": "8D6FOdgBfiHk"
      },
      "execution_count": null,
      "outputs": [
        {
          "output_type": "stream",
          "name": "stdout",
          "text": [
            "              precision    recall  f1-score   support\n",
            "\n",
            "           0       0.85      0.93      0.89      9998\n",
            "           1       0.70      0.50      0.58      3190\n",
            "\n",
            "    accuracy                           0.83     13188\n",
            "   macro avg       0.78      0.72      0.74     13188\n",
            "weighted avg       0.82      0.83      0.82     13188\n",
            "\n"
          ]
        }
      ]
    },
    {
      "cell_type": "markdown",
      "source": [
        "## SVM"
      ],
      "metadata": {
        "id": "nHeKDhM-fiHl"
      }
    },
    {
      "cell_type": "markdown",
      "source": [
        "### Linear Kernel"
      ],
      "metadata": {
        "id": "xyyH3ZtrfiHl"
      }
    },
    {
      "cell_type": "code",
      "source": [
        "svm_linear = SVC(kernel='linear')\n",
        "svm_linear.fit(income_train_features, income_train_labels)"
      ],
      "metadata": {
        "colab": {
          "base_uri": "https://localhost:8080/"
        },
        "outputId": "10f3761d-aa51-4a2b-8b3a-76583ce1e764",
        "id": "yQAr_yYcfiHl"
      },
      "execution_count": null,
      "outputs": [
        {
          "output_type": "execute_result",
          "data": {
            "text/plain": [
              "SVC(kernel='linear')"
            ]
          },
          "metadata": {},
          "execution_count": 65
        }
      ]
    },
    {
      "cell_type": "code",
      "source": [
        "income_predictions = svm_linear.predict(income_test_features)"
      ],
      "metadata": {
        "id": "3l2BWtJQfiHm"
      },
      "execution_count": null,
      "outputs": []
    },
    {
      "cell_type": "code",
      "source": [
        "accuracy_score(income_test_labels, income_predictions)"
      ],
      "metadata": {
        "colab": {
          "base_uri": "https://localhost:8080/"
        },
        "outputId": "857c9951-57bb-46e3-dcc0-a64d94854866",
        "id": "rNVygxXHfiHm"
      },
      "execution_count": null,
      "outputs": [
        {
          "output_type": "execute_result",
          "data": {
            "text/plain": [
              "0.8359872611464968"
            ]
          },
          "metadata": {},
          "execution_count": 67
        }
      ]
    },
    {
      "cell_type": "code",
      "source": [
        "confusion_matrix(income_test_labels, income_predictions)"
      ],
      "metadata": {
        "colab": {
          "base_uri": "https://localhost:8080/"
        },
        "outputId": "97428b44-a2e3-43ea-f154-1418ffb82fd5",
        "id": "0hQKk-zsfiHm"
      },
      "execution_count": null,
      "outputs": [
        {
          "output_type": "execute_result",
          "data": {
            "text/plain": [
              "array([[9266,  732],\n",
              "       [1431, 1759]])"
            ]
          },
          "metadata": {},
          "execution_count": 68
        }
      ]
    },
    {
      "cell_type": "code",
      "source": [
        "print(classification_report(income_test_labels, income_predictions))"
      ],
      "metadata": {
        "colab": {
          "base_uri": "https://localhost:8080/"
        },
        "outputId": "685fc574-5bea-4675-9453-1004cd5250aa",
        "id": "yYzLdaa7fiHn"
      },
      "execution_count": null,
      "outputs": [
        {
          "output_type": "stream",
          "name": "stdout",
          "text": [
            "              precision    recall  f1-score   support\n",
            "\n",
            "           0       0.87      0.93      0.90      9998\n",
            "           1       0.71      0.55      0.62      3190\n",
            "\n",
            "    accuracy                           0.84     13188\n",
            "   macro avg       0.79      0.74      0.76     13188\n",
            "weighted avg       0.83      0.84      0.83     13188\n",
            "\n"
          ]
        }
      ]
    },
    {
      "cell_type": "markdown",
      "source": [
        "### Radial Basis Function Kernel"
      ],
      "metadata": {
        "id": "qehdCIOcfiHn"
      }
    },
    {
      "cell_type": "code",
      "source": [
        "svm_rbf = SVC(kernel='rbf')\n",
        "svm_rbf.fit(income_train_features, income_train_labels)"
      ],
      "metadata": {
        "colab": {
          "base_uri": "https://localhost:8080/"
        },
        "outputId": "94a2eba8-d3eb-4058-ef4e-23111dd5e4f5",
        "id": "b_7iNKhTfiHn"
      },
      "execution_count": null,
      "outputs": [
        {
          "output_type": "execute_result",
          "data": {
            "text/plain": [
              "SVC()"
            ]
          },
          "metadata": {},
          "execution_count": 70
        }
      ]
    },
    {
      "cell_type": "code",
      "source": [
        "income_predictions = svm_rbf.predict(income_test_features)"
      ],
      "metadata": {
        "id": "PHf325AtfiHo"
      },
      "execution_count": null,
      "outputs": []
    },
    {
      "cell_type": "code",
      "source": [
        "accuracy_score(income_test_labels, income_predictions)"
      ],
      "metadata": {
        "colab": {
          "base_uri": "https://localhost:8080/"
        },
        "outputId": "11bec3ec-0a05-4332-939e-f10c92f5402d",
        "id": "LKB2QlTqfiHo"
      },
      "execution_count": null,
      "outputs": [
        {
          "output_type": "execute_result",
          "data": {
            "text/plain": [
              "0.8353806490749166"
            ]
          },
          "metadata": {},
          "execution_count": 72
        }
      ]
    },
    {
      "cell_type": "code",
      "source": [
        "confusion_matrix(income_test_labels, income_predictions)"
      ],
      "metadata": {
        "colab": {
          "base_uri": "https://localhost:8080/"
        },
        "outputId": "1450418e-5775-49c6-fd49-0326869ccaa6",
        "id": "s6lHD2qgfiHo"
      },
      "execution_count": null,
      "outputs": [
        {
          "output_type": "execute_result",
          "data": {
            "text/plain": [
              "array([[9345,  653],\n",
              "       [1518, 1672]])"
            ]
          },
          "metadata": {},
          "execution_count": 73
        }
      ]
    },
    {
      "cell_type": "code",
      "source": [
        "print(classification_report(income_test_labels, income_predictions))"
      ],
      "metadata": {
        "colab": {
          "base_uri": "https://localhost:8080/"
        },
        "outputId": "ca1f094e-ed0c-4515-d4c4-f35f6756db8f",
        "id": "_-LgXJD1fiHp"
      },
      "execution_count": null,
      "outputs": [
        {
          "output_type": "stream",
          "name": "stdout",
          "text": [
            "              precision    recall  f1-score   support\n",
            "\n",
            "           0       0.86      0.93      0.90      9998\n",
            "           1       0.72      0.52      0.61      3190\n",
            "\n",
            "    accuracy                           0.84     13188\n",
            "   macro avg       0.79      0.73      0.75     13188\n",
            "weighted avg       0.83      0.84      0.83     13188\n",
            "\n"
          ]
        }
      ]
    },
    {
      "cell_type": "markdown",
      "source": [
        "### Sigmoid Kernel"
      ],
      "metadata": {
        "id": "xKQyVC_pfiHp"
      }
    },
    {
      "cell_type": "code",
      "source": [
        "svm_sigmoid = SVC(kernel='sigmoid')\n",
        "svm_sigmoid.fit(income_train_features, income_train_labels)"
      ],
      "metadata": {
        "colab": {
          "base_uri": "https://localhost:8080/"
        },
        "outputId": "3564acf7-20dd-4d41-dd91-f0a8d7e94467",
        "id": "T4_sREpRfiHq"
      },
      "execution_count": null,
      "outputs": [
        {
          "output_type": "execute_result",
          "data": {
            "text/plain": [
              "SVC(kernel='sigmoid')"
            ]
          },
          "metadata": {},
          "execution_count": 75
        }
      ]
    },
    {
      "cell_type": "code",
      "source": [
        "income_predictions = svm_sigmoid.predict(income_test_features)"
      ],
      "metadata": {
        "id": "FPVHmVeyfiHq"
      },
      "execution_count": null,
      "outputs": []
    },
    {
      "cell_type": "code",
      "source": [
        "accuracy_score(income_test_labels, income_predictions)"
      ],
      "metadata": {
        "colab": {
          "base_uri": "https://localhost:8080/"
        },
        "outputId": "988760c9-60c9-487d-b062-2e628a2fbffc",
        "id": "5gv5eI3AfiHq"
      },
      "execution_count": null,
      "outputs": [
        {
          "output_type": "execute_result",
          "data": {
            "text/plain": [
              "0.6071428571428571"
            ]
          },
          "metadata": {},
          "execution_count": 77
        }
      ]
    },
    {
      "cell_type": "code",
      "source": [
        "confusion_matrix(income_test_labels, income_predictions)"
      ],
      "metadata": {
        "colab": {
          "base_uri": "https://localhost:8080/"
        },
        "outputId": "12e6d37c-1e60-42b5-a1ea-68cc393469e2",
        "id": "4bVpwcVXfiHr"
      },
      "execution_count": null,
      "outputs": [
        {
          "output_type": "execute_result",
          "data": {
            "text/plain": [
              "array([[7495, 2503],\n",
              "       [2678,  512]])"
            ]
          },
          "metadata": {},
          "execution_count": 78
        }
      ]
    },
    {
      "cell_type": "code",
      "source": [
        "print(classification_report(income_test_labels, income_predictions))"
      ],
      "metadata": {
        "colab": {
          "base_uri": "https://localhost:8080/"
        },
        "outputId": "c61fc0d3-891a-478d-9500-69d3e27da6ad",
        "id": "inRloZ_BfiHr"
      },
      "execution_count": null,
      "outputs": [
        {
          "output_type": "stream",
          "name": "stdout",
          "text": [
            "              precision    recall  f1-score   support\n",
            "\n",
            "           0       0.74      0.75      0.74      9998\n",
            "           1       0.17      0.16      0.17      3190\n",
            "\n",
            "    accuracy                           0.61     13188\n",
            "   macro avg       0.45      0.46      0.45     13188\n",
            "weighted avg       0.60      0.61      0.60     13188\n",
            "\n"
          ]
        }
      ]
    },
    {
      "cell_type": "markdown",
      "source": [
        "# for Logistic Regression : \n",
        "# The accuracy score is 0.8356839551107067\n",
        "# for the KNN : \n",
        "# the accuracy score of the best KNN model is 0.8280254777070064\n",
        "# for the SVM the accuracy score was a follows for the each kernel:\n",
        "# Linear Kernel :0.8359872611464968\n",
        "# Radial basis kernel : 0.8353806490749166\n",
        "# Sigmoid kernel : 0.6071428571428571\n",
        "#---------------------------------\n",
        "# The best accuracy score is obtained by the SVM using the linear kernel"
      ],
      "metadata": {
        "id": "9rMvOoXx0MFc"
      }
    },
    {
      "cell_type": "markdown",
      "source": [
        "# Dataset 3 Models"
      ],
      "metadata": {
        "id": "TcP3JXHXPfrE"
      }
    },
    {
      "cell_type": "markdown",
      "source": [
        "## Logistic Regression"
      ],
      "metadata": {
        "id": "njhLPulySSH-"
      }
    },
    {
      "cell_type": "code",
      "source": [
        "log_model = LogisticRegression()"
      ],
      "metadata": {
        "id": "H1QREEEqSpDD"
      },
      "execution_count": null,
      "outputs": []
    },
    {
      "cell_type": "code",
      "source": [
        "log_model.fit(gene_expression_train_features, gene_expression_train_labels)"
      ],
      "metadata": {
        "colab": {
          "base_uri": "https://localhost:8080/"
        },
        "id": "itKCmtd3Sqg1",
        "outputId": "b44c195f-a6dc-46d4-ec99-441f0410764c"
      },
      "execution_count": null,
      "outputs": [
        {
          "output_type": "execute_result",
          "data": {
            "text/plain": [
              "LogisticRegression()"
            ]
          },
          "metadata": {},
          "execution_count": 12
        }
      ]
    },
    {
      "cell_type": "code",
      "source": [
        "gene_expression_predictions = log_model.predict(gene_expression_test_features)"
      ],
      "metadata": {
        "id": "1F2K-knTSwp8"
      },
      "execution_count": null,
      "outputs": []
    },
    {
      "cell_type": "code",
      "source": [
        "accuracy_score(gene_expression_test_labels, gene_expression_predictions)"
      ],
      "metadata": {
        "colab": {
          "base_uri": "https://localhost:8080/"
        },
        "id": "ctBrSDh3TRS3",
        "outputId": "c363fa7f-fc4d-475f-efed-079855860b7e"
      },
      "execution_count": null,
      "outputs": [
        {
          "output_type": "execute_result",
          "data": {
            "text/plain": [
              "0.86"
            ]
          },
          "metadata": {},
          "execution_count": 14
        }
      ]
    },
    {
      "cell_type": "code",
      "source": [
        "confusion_matrix(gene_expression_test_labels, gene_expression_predictions)"
      ],
      "metadata": {
        "colab": {
          "base_uri": "https://localhost:8080/"
        },
        "id": "H39SepdcUEXR",
        "outputId": "95833724-abfc-4484-b28c-b990470cc7b8"
      },
      "execution_count": null,
      "outputs": [
        {
          "output_type": "execute_result",
          "data": {
            "text/plain": [
              "array([[366,  57],\n",
              "       [ 69, 408]])"
            ]
          },
          "metadata": {},
          "execution_count": 15
        }
      ]
    },
    {
      "cell_type": "code",
      "source": [
        "print(classification_report(gene_expression_test_labels, gene_expression_predictions))"
      ],
      "metadata": {
        "colab": {
          "base_uri": "https://localhost:8080/"
        },
        "id": "ReSWUxWGUMeK",
        "outputId": "2bd95e52-2ad4-4a17-e8a3-88e43a5b71e5"
      },
      "execution_count": null,
      "outputs": [
        {
          "output_type": "stream",
          "name": "stdout",
          "text": [
            "              precision    recall  f1-score   support\n",
            "\n",
            "           0       0.84      0.87      0.85       423\n",
            "           1       0.88      0.86      0.87       477\n",
            "\n",
            "    accuracy                           0.86       900\n",
            "   macro avg       0.86      0.86      0.86       900\n",
            "weighted avg       0.86      0.86      0.86       900\n",
            "\n"
          ]
        }
      ]
    },
    {
      "cell_type": "markdown",
      "source": [
        "## KNNs"
      ],
      "metadata": {
        "id": "8tvfHvsRYqm7"
      }
    },
    {
      "cell_type": "code",
      "source": [
        "test_error_rates = []\n",
        "\n",
        "for k in range(1, 20):\n",
        "    knn_model = KNeighborsClassifier(n_neighbors=k)\n",
        "    knn_model.fit(gene_expression_train_features, gene_expression_train_labels) \n",
        "   \n",
        "    gene_expression_predictions = knn_model.predict(gene_expression_test_features)\n",
        "    \n",
        "    test_error = 1 - accuracy_score(gene_expression_test_labels, gene_expression_predictions)\n",
        "    test_error_rates.append(test_error)"
      ],
      "metadata": {
        "id": "OOoC53FbYqm8"
      },
      "execution_count": null,
      "outputs": []
    },
    {
      "cell_type": "code",
      "source": [
        "plt.figure(figsize=(8,4),dpi=200)\n",
        "plt.plot(range(1, 20),test_error_rates,label='Test Error')\n",
        "plt.legend()\n",
        "plt.ylabel('Error Rate')\n",
        "plt.xlabel(\"K Value\")"
      ],
      "metadata": {
        "colab": {
          "base_uri": "https://localhost:8080/",
          "height": 608
        },
        "outputId": "9acfb1cc-de68-4452-e40f-0f6cf6a3c410",
        "id": "y_maS1WgYqm9"
      },
      "execution_count": null,
      "outputs": [
        {
          "output_type": "execute_result",
          "data": {
            "text/plain": [
              "Text(0.5, 0, 'K Value')"
            ]
          },
          "metadata": {},
          "execution_count": 19
        },
        {
          "output_type": "display_data",
          "data": {
            "text/plain": [
              "<Figure size 1600x800 with 1 Axes>"
            ],
            "image/png": "[encoded data removed]"
          },
          "metadata": {
            "needs_background": "light"
          }
        }
      ]
    },
    {
      "cell_type": "markdown",
      "source": [
        "6 is a suitable number for K"
      ],
      "metadata": {
        "id": "r_LVIBD3Yqm9"
      }
    },
    {
      "cell_type": "code",
      "source": [
        "knn_model = KNeighborsClassifier(n_neighbors=6)"
      ],
      "metadata": {
        "id": "2ZE1Sl2SYqm9"
      },
      "execution_count": null,
      "outputs": []
    },
    {
      "cell_type": "code",
      "source": [
        "knn_model.fit(gene_expression_train_features, gene_expression_train_labels)\n",
        "gene_expression_predictions = knn_model.predict(gene_expression_test_features)"
      ],
      "metadata": {
        "id": "4I3UycdXYqm9"
      },
      "execution_count": null,
      "outputs": []
    },
    {
      "cell_type": "code",
      "source": [
        "accuracy_score(gene_expression_test_labels, gene_expression_predictions)"
      ],
      "metadata": {
        "colab": {
          "base_uri": "https://localhost:8080/"
        },
        "outputId": "e05a030e-5cfe-4171-93e7-95fa6e565439",
        "id": "JaYbog91Yqm9"
      },
      "execution_count": null,
      "outputs": [
        {
          "output_type": "execute_result",
          "data": {
            "text/plain": [
              "0.9377777777777778"
            ]
          },
          "metadata": {},
          "execution_count": 22
        }
      ]
    },
    {
      "cell_type": "code",
      "source": [
        "confusion_matrix(gene_expression_test_labels, gene_expression_predictions)"
      ],
      "metadata": {
        "colab": {
          "base_uri": "https://localhost:8080/"
        },
        "outputId": "25e9a5e3-c296-4e48-bfdd-d341ab317dff",
        "id": "PJDGF8ELYqm9"
      },
      "execution_count": null,
      "outputs": [
        {
          "output_type": "execute_result",
          "data": {
            "text/plain": [
              "array([[398,  25],\n",
              "       [ 31, 446]])"
            ]
          },
          "metadata": {},
          "execution_count": 23
        }
      ]
    },
    {
      "cell_type": "code",
      "source": [
        "print(classification_report(gene_expression_test_labels, gene_expression_predictions))"
      ],
      "metadata": {
        "colab": {
          "base_uri": "https://localhost:8080/"
        },
        "outputId": "bb7f804c-dc6d-463d-e38f-95c33999cdcc",
        "id": "HAYjj9DEYqm-"
      },
      "execution_count": null,
      "outputs": [
        {
          "output_type": "stream",
          "name": "stdout",
          "text": [
            "              precision    recall  f1-score   support\n",
            "\n",
            "           0       0.93      0.94      0.93       423\n",
            "           1       0.95      0.94      0.94       477\n",
            "\n",
            "    accuracy                           0.94       900\n",
            "   macro avg       0.94      0.94      0.94       900\n",
            "weighted avg       0.94      0.94      0.94       900\n",
            "\n"
          ]
        }
      ]
    },
    {
      "cell_type": "markdown",
      "source": [
        "## SVM"
      ],
      "metadata": {
        "id": "s4optSplYqm-"
      }
    },
    {
      "cell_type": "markdown",
      "source": [
        "### Linear Kernel"
      ],
      "metadata": {
        "id": "9uhjpD7RYqm-"
      }
    },
    {
      "cell_type": "code",
      "source": [
        "svm_linear = SVC(kernel='linear')\n",
        "svm_linear.fit(gene_expression_train_features, gene_expression_train_labels)"
      ],
      "metadata": {
        "colab": {
          "base_uri": "https://localhost:8080/"
        },
        "outputId": "f5cfcfa9-a790-4739-856f-35bf77b8acf4",
        "id": "deZ8n-phYqm-"
      },
      "execution_count": null,
      "outputs": [
        {
          "output_type": "execute_result",
          "data": {
            "text/plain": [
              "SVC(kernel='linear')"
            ]
          },
          "metadata": {},
          "execution_count": 26
        }
      ]
    },
    {
      "cell_type": "code",
      "source": [
        "gene_expression_predictions = svm_linear.predict(gene_expression_test_features)"
      ],
      "metadata": {
        "id": "f26NzXGeYqm-"
      },
      "execution_count": null,
      "outputs": []
    },
    {
      "cell_type": "code",
      "source": [
        "accuracy_score(gene_expression_test_labels, gene_expression_predictions)"
      ],
      "metadata": {
        "colab": {
          "base_uri": "https://localhost:8080/"
        },
        "outputId": "02e26e42-3346-40a9-c430-31e14ea80e5a",
        "id": "P7IjhBtjYqm_"
      },
      "execution_count": null,
      "outputs": [
        {
          "output_type": "execute_result",
          "data": {
            "text/plain": [
              "0.8622222222222222"
            ]
          },
          "metadata": {},
          "execution_count": 28
        }
      ]
    },
    {
      "cell_type": "code",
      "source": [
        "confusion_matrix(gene_expression_test_labels, gene_expression_predictions)"
      ],
      "metadata": {
        "colab": {
          "base_uri": "https://localhost:8080/"
        },
        "outputId": "800b5748-5cde-4eef-c4c8-8749311f1a89",
        "id": "lByDuvdGYqm_"
      },
      "execution_count": null,
      "outputs": [
        {
          "output_type": "execute_result",
          "data": {
            "text/plain": [
              "array([[365,  58],\n",
              "       [ 66, 411]])"
            ]
          },
          "metadata": {},
          "execution_count": 29
        }
      ]
    },
    {
      "cell_type": "code",
      "source": [
        "print(classification_report(gene_expression_test_labels, gene_expression_predictions))"
      ],
      "metadata": {
        "colab": {
          "base_uri": "https://localhost:8080/"
        },
        "outputId": "e110e3ef-5349-4b30-837f-abbe2ac9a823",
        "id": "54T5JpKnYqm_"
      },
      "execution_count": null,
      "outputs": [
        {
          "output_type": "stream",
          "name": "stdout",
          "text": [
            "              precision    recall  f1-score   support\n",
            "\n",
            "           0       0.85      0.86      0.85       423\n",
            "           1       0.88      0.86      0.87       477\n",
            "\n",
            "    accuracy                           0.86       900\n",
            "   macro avg       0.86      0.86      0.86       900\n",
            "weighted avg       0.86      0.86      0.86       900\n",
            "\n"
          ]
        }
      ]
    },
    {
      "cell_type": "markdown",
      "source": [
        "### Radial Basis Function Kernel"
      ],
      "metadata": {
        "id": "p5I94CljYqm_"
      }
    },
    {
      "cell_type": "code",
      "source": [
        "svm_rbf = SVC(kernel='rbf')\n",
        "svm_rbf.fit(gene_expression_train_features, gene_expression_train_labels)"
      ],
      "metadata": {
        "colab": {
          "base_uri": "https://localhost:8080/"
        },
        "outputId": "1776a336-6666-4e19-bea8-144244254538",
        "id": "UOHuh9nCYqm_"
      },
      "execution_count": null,
      "outputs": [
        {
          "output_type": "execute_result",
          "data": {
            "text/plain": [
              "SVC()"
            ]
          },
          "metadata": {},
          "execution_count": 31
        }
      ]
    },
    {
      "cell_type": "code",
      "source": [
        "gene_expression_predictions = svm_rbf.predict(gene_expression_test_features)"
      ],
      "metadata": {
        "id": "fN64WzfPYqnA"
      },
      "execution_count": null,
      "outputs": []
    },
    {
      "cell_type": "code",
      "source": [
        "accuracy_score(gene_expression_test_labels, gene_expression_predictions)"
      ],
      "metadata": {
        "colab": {
          "base_uri": "https://localhost:8080/"
        },
        "outputId": "a168e6ce-4b50-464b-cf31-af04359d3d24",
        "id": "UtkIokd5YqnA"
      },
      "execution_count": null,
      "outputs": [
        {
          "output_type": "execute_result",
          "data": {
            "text/plain": [
              "0.9333333333333333"
            ]
          },
          "metadata": {},
          "execution_count": 33
        }
      ]
    },
    {
      "cell_type": "code",
      "source": [
        "confusion_matrix(gene_expression_test_labels, gene_expression_predictions)"
      ],
      "metadata": {
        "colab": {
          "base_uri": "https://localhost:8080/"
        },
        "outputId": "96e7f66c-0f99-4d4f-85d7-735364929344",
        "id": "IMEAnC_rYqnA"
      },
      "execution_count": null,
      "outputs": [
        {
          "output_type": "execute_result",
          "data": {
            "text/plain": [
              "array([[391,  32],\n",
              "       [ 28, 449]])"
            ]
          },
          "metadata": {},
          "execution_count": 34
        }
      ]
    },
    {
      "cell_type": "code",
      "source": [
        "print(classification_report(gene_expression_test_labels, gene_expression_predictions))"
      ],
      "metadata": {
        "colab": {
          "base_uri": "https://localhost:8080/"
        },
        "outputId": "9ea5f6e6-3c38-411c-b751-c7bc2cd4934a",
        "id": "zG3CIk4XYqnA"
      },
      "execution_count": null,
      "outputs": [
        {
          "output_type": "stream",
          "name": "stdout",
          "text": [
            "              precision    recall  f1-score   support\n",
            "\n",
            "           0       0.93      0.92      0.93       423\n",
            "           1       0.93      0.94      0.94       477\n",
            "\n",
            "    accuracy                           0.93       900\n",
            "   macro avg       0.93      0.93      0.93       900\n",
            "weighted avg       0.93      0.93      0.93       900\n",
            "\n"
          ]
        }
      ]
    },
    {
      "cell_type": "markdown",
      "source": [
        "### Sigmoid Kernel"
      ],
      "metadata": {
        "id": "RCrw6r4xYqnA"
      }
    },
    {
      "cell_type": "code",
      "source": [
        "svm_sigmoid = SVC(kernel='sigmoid')\n",
        "svm_sigmoid.fit(gene_expression_train_features, gene_expression_train_labels)"
      ],
      "metadata": {
        "colab": {
          "base_uri": "https://localhost:8080/"
        },
        "outputId": "127d507b-3f42-4bb0-f880-9805ff4faee6",
        "id": "umQmRRxVYqnA"
      },
      "execution_count": null,
      "outputs": [
        {
          "output_type": "execute_result",
          "data": {
            "text/plain": [
              "SVC(kernel='sigmoid')"
            ]
          },
          "metadata": {},
          "execution_count": 36
        }
      ]
    },
    {
      "cell_type": "code",
      "source": [
        "gene_expression_predictions = svm_sigmoid.predict(gene_expression_test_features)"
      ],
      "metadata": {
        "id": "DeAziRSEYqnA"
      },
      "execution_count": null,
      "outputs": []
    },
    {
      "cell_type": "code",
      "source": [
        "accuracy_score(gene_expression_test_labels, gene_expression_predictions)"
      ],
      "metadata": {
        "colab": {
          "base_uri": "https://localhost:8080/"
        },
        "outputId": "fac731c0-5dd9-4962-a9c9-c94661746dca",
        "id": "YUx6o0G1YqnB"
      },
      "execution_count": null,
      "outputs": [
        {
          "output_type": "execute_result",
          "data": {
            "text/plain": [
              "0.47"
            ]
          },
          "metadata": {},
          "execution_count": 38
        }
      ]
    },
    {
      "cell_type": "code",
      "source": [
        "confusion_matrix(gene_expression_test_labels, gene_expression_predictions)"
      ],
      "metadata": {
        "colab": {
          "base_uri": "https://localhost:8080/"
        },
        "outputId": "960a8ae8-59c9-4289-9a4f-659c3e703a96",
        "id": "Z5Cbmo89YqnB"
      },
      "execution_count": null,
      "outputs": [
        {
          "output_type": "execute_result",
          "data": {
            "text/plain": [
              "array([[423,   0],\n",
              "       [477,   0]])"
            ]
          },
          "metadata": {},
          "execution_count": 39
        }
      ]
    },
    {
      "cell_type": "code",
      "source": [
        "print(classification_report(gene_expression_test_labels, gene_expression_predictions))"
      ],
      "metadata": {
        "colab": {
          "base_uri": "https://localhost:8080/"
        },
        "outputId": "691c2652-06e6-4ff5-b7c2-ea46d2e8b800",
        "id": "f5mr-N9LYqnB"
      },
      "execution_count": null,
      "outputs": [
        {
          "output_type": "stream",
          "name": "stdout",
          "text": [
            "              precision    recall  f1-score   support\n",
            "\n",
            "           0       0.47      1.00      0.64       423\n",
            "           1       0.00      0.00      0.00       477\n",
            "\n",
            "    accuracy                           0.47       900\n",
            "   macro avg       0.23      0.50      0.32       900\n",
            "weighted avg       0.22      0.47      0.30       900\n",
            "\n"
          ]
        },
        {
          "output_type": "stream",
          "name": "stderr",
          "text": [
            "/usr/local/lib/python3.8/dist-packages/sklearn/metrics/_classification.py:1318: UndefinedMetricWarning: Precision and F-score are ill-defined and being set to 0.0 in labels with no predicted samples. Use `zero_division` parameter to control this behavior.\n",
            "  _warn_prf(average, modifier, msg_start, len(result))\n",
            "/usr/local/lib/python3.8/dist-packages/sklearn/metrics/_classification.py:1318: UndefinedMetricWarning: Precision and F-score are ill-defined and being set to 0.0 in labels with no predicted samples. Use `zero_division` parameter to control this behavior.\n",
            "  _warn_prf(average, modifier, msg_start, len(result))\n",
            "/usr/local/lib/python3.8/dist-packages/sklearn/metrics/_classification.py:1318: UndefinedMetricWarning: Precision and F-score are ill-defined and being set to 0.0 in labels with no predicted samples. Use `zero_division` parameter to control this behavior.\n",
            "  _warn_prf(average, modifier, msg_start, len(result))\n"
          ]
        }
      ]
    },
    {
      "cell_type": "code",
      "source": [
        "# for Logistic Regression : \n",
        "# The accuracy score is 0.86\n",
        "# for the KNN : \n",
        "# the accuracy score of the best KNN model is 0.9377777777777778\n",
        "# for the SVM the accuracy score was a follows for the each kernel:\n",
        "# Linear Kernel :0.8622222222222222\n",
        "# Radial basis kernel : 0.9333333333333333\n",
        "# Sigmoid kernel : 0.47\n",
        "#---------------------------------\n",
        "# The best accuracy score is obtained by the SVM using the Radial Basis Kernel "
      ],
      "metadata": {
        "id": "0aigZF900agx"
      },
      "execution_count": null,
      "outputs": []
    }
  ]
}